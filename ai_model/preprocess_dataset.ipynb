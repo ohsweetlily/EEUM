{
 "cells": [
  {
   "cell_type": "code",
   "execution_count": 1,
   "id": "7bd6ff76-1b39-4174-90ae-4ff3c2c1cab9",
   "metadata": {},
   "outputs": [],
   "source": [
    "# csv 파일 주소\n",
    "large_data_csv_url = './csv_data/0503_large_data.csv'\n",
    "small_data_csv_url = './csv_data/0503_small_data.csv'"
   ]
  },
  {
   "cell_type": "markdown",
   "id": "102e6b62-d637-453d-b22b-2f2c2afe92dc",
   "metadata": {},
   "source": [
    "# split train_ds, validation_ds, test_ds"
   ]
  },
  {
   "cell_type": "code",
   "execution_count": 2,
   "id": "02cf0afd-2fb5-4347-9bf2-ca244ed3f557",
   "metadata": {},
   "outputs": [],
   "source": [
    "import pandas as pd"
   ]
  },
  {
   "cell_type": "code",
   "execution_count": 3,
   "id": "dfb28857-9d70-41f1-9681-469f39384675",
   "metadata": {},
   "outputs": [
    {
     "data": {
      "text/html": [
       "<div>\n",
       "<style scoped>\n",
       "    .dataframe tbody tr th:only-of-type {\n",
       "        vertical-align: middle;\n",
       "    }\n",
       "\n",
       "    .dataframe tbody tr th {\n",
       "        vertical-align: top;\n",
       "    }\n",
       "\n",
       "    .dataframe thead th {\n",
       "        text-align: right;\n",
       "    }\n",
       "</style>\n",
       "<table border=\"1\" class=\"dataframe\">\n",
       "  <thead>\n",
       "    <tr style=\"text-align: right;\">\n",
       "      <th></th>\n",
       "      <th>Unnamed: 0</th>\n",
       "      <th>Sentence</th>\n",
       "      <th>Emotion</th>\n",
       "    </tr>\n",
       "  </thead>\n",
       "  <tbody>\n",
       "    <tr>\n",
       "      <th>0</th>\n",
       "      <td>0</td>\n",
       "      <td>언니 동생으로 부르는게 맞는 일인가요..??</td>\n",
       "      <td>걱정</td>\n",
       "    </tr>\n",
       "    <tr>\n",
       "      <th>1</th>\n",
       "      <td>1</td>\n",
       "      <td>그냥 내 느낌일뿐겠지?</td>\n",
       "      <td>걱정</td>\n",
       "    </tr>\n",
       "    <tr>\n",
       "      <th>2</th>\n",
       "      <td>2</td>\n",
       "      <td>아직너무초기라서 그런거죠?</td>\n",
       "      <td>걱정</td>\n",
       "    </tr>\n",
       "    <tr>\n",
       "      <th>3</th>\n",
       "      <td>3</td>\n",
       "      <td>유치원버스 사고 낫다던데</td>\n",
       "      <td>걱정</td>\n",
       "    </tr>\n",
       "    <tr>\n",
       "      <th>4</th>\n",
       "      <td>4</td>\n",
       "      <td>근데 원래이런거맞나요</td>\n",
       "      <td>걱정</td>\n",
       "    </tr>\n",
       "    <tr>\n",
       "      <th>5</th>\n",
       "      <td>5</td>\n",
       "      <td>남자친구가 떠날까봐요</td>\n",
       "      <td>걱정</td>\n",
       "    </tr>\n",
       "    <tr>\n",
       "      <th>6</th>\n",
       "      <td>6</td>\n",
       "      <td>이거 했는데 허리가 아플수도 있나요? ;;</td>\n",
       "      <td>걱정</td>\n",
       "    </tr>\n",
       "    <tr>\n",
       "      <th>7</th>\n",
       "      <td>7</td>\n",
       "      <td>내가불안해서꾸는걸까..</td>\n",
       "      <td>걱정</td>\n",
       "    </tr>\n",
       "    <tr>\n",
       "      <th>8</th>\n",
       "      <td>8</td>\n",
       "      <td>일주일도 안 남았당...ㅠㅠ</td>\n",
       "      <td>걱정</td>\n",
       "    </tr>\n",
       "    <tr>\n",
       "      <th>9</th>\n",
       "      <td>9</td>\n",
       "      <td>약은 최대한 안먹으려고 하는데좋은 음시있나요?0</td>\n",
       "      <td>걱정</td>\n",
       "    </tr>\n",
       "    <tr>\n",
       "      <th>10</th>\n",
       "      <td>10</td>\n",
       "      <td>구직활동 하면서 남는시간은 뭘로 활용해야 되지..</td>\n",
       "      <td>걱정</td>\n",
       "    </tr>\n",
       "    <tr>\n",
       "      <th>11</th>\n",
       "      <td>11</td>\n",
       "      <td>괜찮은분 같아서 괜히 조급해지네요 ㅜ</td>\n",
       "      <td>걱정</td>\n",
       "    </tr>\n",
       "    <tr>\n",
       "      <th>12</th>\n",
       "      <td>12</td>\n",
       "      <td>제가 스타일을 바꾸면 더 어색하게만 변할것같아서 ㅠ0</td>\n",
       "      <td>걱정</td>\n",
       "    </tr>\n",
       "    <tr>\n",
       "      <th>13</th>\n",
       "      <td>13</td>\n",
       "      <td>아내 있으면 여자 있는 술집가면 법 적으로 문제있나요?</td>\n",
       "      <td>걱정</td>\n",
       "    </tr>\n",
       "    <tr>\n",
       "      <th>14</th>\n",
       "      <td>14</td>\n",
       "      <td>한소리들을지.... 도와주세요</td>\n",
       "      <td>걱정</td>\n",
       "    </tr>\n",
       "    <tr>\n",
       "      <th>15</th>\n",
       "      <td>15</td>\n",
       "      <td>도와주실분 없나요..</td>\n",
       "      <td>걱정</td>\n",
       "    </tr>\n",
       "    <tr>\n",
       "      <th>16</th>\n",
       "      <td>16</td>\n",
       "      <td>그냥 잡다한거말고학업에 관련된거 듣는게 더 좋은가요?</td>\n",
       "      <td>걱정</td>\n",
       "    </tr>\n",
       "    <tr>\n",
       "      <th>17</th>\n",
       "      <td>17</td>\n",
       "      <td>가격은 반값....이거 질이 다른건가요??</td>\n",
       "      <td>걱정</td>\n",
       "    </tr>\n",
       "    <tr>\n",
       "      <th>18</th>\n",
       "      <td>18</td>\n",
       "      <td>마지막에 말씀 드렸던대로 글은 이제 내릴게요의도치않게 실시간베스트글에 올라가서 남친...</td>\n",
       "      <td>걱정</td>\n",
       "    </tr>\n",
       "    <tr>\n",
       "      <th>19</th>\n",
       "      <td>19</td>\n",
       "      <td>화장품회사다보니, 젊은 여자들이 많은거 같은데 걱정이네요..</td>\n",
       "      <td>걱정</td>\n",
       "    </tr>\n",
       "  </tbody>\n",
       "</table>\n",
       "</div>"
      ],
      "text/plain": [
       "    Unnamed: 0                                           Sentence Emotion\n",
       "0            0                           언니 동생으로 부르는게 맞는 일인가요..??      걱정\n",
       "1            1                                       그냥 내 느낌일뿐겠지?      걱정\n",
       "2            2                                     아직너무초기라서 그런거죠?      걱정\n",
       "3            3                                      유치원버스 사고 낫다던데      걱정\n",
       "4            4                                        근데 원래이런거맞나요      걱정\n",
       "5            5                                        남자친구가 떠날까봐요      걱정\n",
       "6            6                            이거 했는데 허리가 아플수도 있나요? ;;      걱정\n",
       "7            7                                       내가불안해서꾸는걸까..      걱정\n",
       "8            8                                    일주일도 안 남았당...ㅠㅠ      걱정\n",
       "9            9                         약은 최대한 안먹으려고 하는데좋은 음시있나요?0      걱정\n",
       "10          10                        구직활동 하면서 남는시간은 뭘로 활용해야 되지..      걱정\n",
       "11          11                               괜찮은분 같아서 괜히 조급해지네요 ㅜ      걱정\n",
       "12          12                      제가 스타일을 바꾸면 더 어색하게만 변할것같아서 ㅠ0      걱정\n",
       "13          13                     아내 있으면 여자 있는 술집가면 법 적으로 문제있나요?      걱정\n",
       "14          14                                   한소리들을지.... 도와주세요      걱정\n",
       "15          15                                        도와주실분 없나요..      걱정\n",
       "16          16                      그냥 잡다한거말고학업에 관련된거 듣는게 더 좋은가요?      걱정\n",
       "17          17                            가격은 반값....이거 질이 다른건가요??      걱정\n",
       "18          18  마지막에 말씀 드렸던대로 글은 이제 내릴게요의도치않게 실시간베스트글에 올라가서 남친...      걱정\n",
       "19          19                  화장품회사다보니, 젊은 여자들이 많은거 같은데 걱정이네요..      걱정"
      ]
     },
     "execution_count": 3,
     "metadata": {},
     "output_type": "execute_result"
    }
   ],
   "source": [
    "data_pd = pd.read_csv(large_data_csv_url)\n",
    "\n",
    "data_pd.head(20)"
   ]
  },
  {
   "cell_type": "code",
   "execution_count": 4,
   "id": "7eb29c0d-c108-4019-8e74-69e089c5f6a4",
   "metadata": {},
   "outputs": [
    {
     "data": {
      "text/plain": [
       "(Index(['Unnamed: 0', 'Sentence', 'Emotion'], dtype='object'), (28335, 3))"
      ]
     },
     "execution_count": 4,
     "metadata": {},
     "output_type": "execute_result"
    }
   ],
   "source": [
    "# Data 컬럼, 데이터 shape 조회\n",
    "data_pd.columns, data_pd.shape"
   ]
  },
  {
   "cell_type": "markdown",
   "id": "9366a833-1519-4d96-9a8f-d2134882a254",
   "metadata": {},
   "source": [
    "## 데이터를 무작위로 섞고, 컬럼명을 변경해준다"
   ]
  },
  {
   "cell_type": "code",
   "execution_count": 5,
   "id": "7540a39f-b871-4859-ba94-067b60b47f0f",
   "metadata": {},
   "outputs": [
    {
     "data": {
      "text/html": [
       "<div>\n",
       "<style scoped>\n",
       "    .dataframe tbody tr th:only-of-type {\n",
       "        vertical-align: middle;\n",
       "    }\n",
       "\n",
       "    .dataframe tbody tr th {\n",
       "        vertical-align: top;\n",
       "    }\n",
       "\n",
       "    .dataframe thead th {\n",
       "        text-align: right;\n",
       "    }\n",
       "</style>\n",
       "<table border=\"1\" class=\"dataframe\">\n",
       "  <thead>\n",
       "    <tr style=\"text-align: right;\">\n",
       "      <th></th>\n",
       "      <th>sentence</th>\n",
       "      <th>label</th>\n",
       "    </tr>\n",
       "  </thead>\n",
       "  <tbody>\n",
       "    <tr>\n",
       "      <th>13665</th>\n",
       "      <td>세상엔 미친사람이 참 많다</td>\n",
       "      <td>분노</td>\n",
       "    </tr>\n",
       "    <tr>\n",
       "      <th>22325</th>\n",
       "      <td>너무 너무 좋아요!!</td>\n",
       "      <td>행복</td>\n",
       "    </tr>\n",
       "    <tr>\n",
       "      <th>16210</th>\n",
       "      <td>일단 총기부터 다 수거해라~</td>\n",
       "      <td>분노</td>\n",
       "    </tr>\n",
       "    <tr>\n",
       "      <th>10908</th>\n",
       "      <td>솔직히 관심없지만... 10년 지났다고 ??? 진짜 빠르네</td>\n",
       "      <td>설렘</td>\n",
       "    </tr>\n",
       "    <tr>\n",
       "      <th>13361</th>\n",
       "      <td>회사보다 욕을 더 많이 먹는 이상한 현대차 노조</td>\n",
       "      <td>분노</td>\n",
       "    </tr>\n",
       "    <tr>\n",
       "      <th>18385</th>\n",
       "      <td>야식이 문제에용 ㅠㅠ</td>\n",
       "      <td>슬픔</td>\n",
       "    </tr>\n",
       "    <tr>\n",
       "      <th>10672</th>\n",
       "      <td>애플이 또 마이웨이로! 근데 음질서 인정 받으면 다른 제조사서 분명 벤치마킹함</td>\n",
       "      <td>설렘</td>\n",
       "    </tr>\n",
       "    <tr>\n",
       "      <th>15591</th>\n",
       "      <td>융통성 전혀 없는 기득권층을 싹 다 조져버려야됨</td>\n",
       "      <td>분노</td>\n",
       "    </tr>\n",
       "    <tr>\n",
       "      <th>8462</th>\n",
       "      <td>지금 화나야 9승 무패 하겟다는거야???</td>\n",
       "      <td>설렘</td>\n",
       "    </tr>\n",
       "    <tr>\n",
       "      <th>9551</th>\n",
       "      <td>이 색히 들이 한국 축구의 미래라니...</td>\n",
       "      <td>설렘</td>\n",
       "    </tr>\n",
       "    <tr>\n",
       "      <th>7934</th>\n",
       "      <td>캬~ 외교부는 하는일이 이런거임?</td>\n",
       "      <td>설렘</td>\n",
       "    </tr>\n",
       "    <tr>\n",
       "      <th>17639</th>\n",
       "      <td>헤어지고 서로 다른 사람도 만나고 했는데저는 아직 미련이 많이 남았나봅니다</td>\n",
       "      <td>슬픔</td>\n",
       "    </tr>\n",
       "    <tr>\n",
       "      <th>4364</th>\n",
       "      <td>성격차이로 주변에서 헤어지는거 보니깐성격이 중요한가 싶어서요..</td>\n",
       "      <td>걱정</td>\n",
       "    </tr>\n",
       "    <tr>\n",
       "      <th>431</th>\n",
       "      <td>나에대한 내신상를 캐묻지 않나...</td>\n",
       "      <td>걱정</td>\n",
       "    </tr>\n",
       "    <tr>\n",
       "      <th>4151</th>\n",
       "      <td>아직 아기가 혼자 걷지는 못하구요</td>\n",
       "      <td>걱정</td>\n",
       "    </tr>\n",
       "    <tr>\n",
       "      <th>2642</th>\n",
       "      <td>이제 졸업하는데 뭐해먹고 살아야할지 모르겠습니다.</td>\n",
       "      <td>걱정</td>\n",
       "    </tr>\n",
       "    <tr>\n",
       "      <th>12332</th>\n",
       "      <td>미친개들만 댓글달았네 또라이새끼들 탄핵반대가 진정한 민심이다</td>\n",
       "      <td>분노</td>\n",
       "    </tr>\n",
       "    <tr>\n",
       "      <th>7487</th>\n",
       "      <td>집정리중 수도요금이3년정도 미납이라 20만원이 나왔다고 우편물이 있어서 확인해보고 ...</td>\n",
       "      <td>설렘</td>\n",
       "    </tr>\n",
       "    <tr>\n",
       "      <th>14884</th>\n",
       "      <td>이런ㄱ같은기사를클릭했다니</td>\n",
       "      <td>분노</td>\n",
       "    </tr>\n",
       "    <tr>\n",
       "      <th>24063</th>\n",
       "      <td>말도 잘 하고 얼굴도 예쁘고 못하는게 없는 유정이</td>\n",
       "      <td>행복</td>\n",
       "    </tr>\n",
       "  </tbody>\n",
       "</table>\n",
       "</div>"
      ],
      "text/plain": [
       "                                                sentence label\n",
       "13665                                     세상엔 미친사람이 참 많다    분노\n",
       "22325                                        너무 너무 좋아요!!    행복\n",
       "16210                                    일단 총기부터 다 수거해라~    분노\n",
       "10908                   솔직히 관심없지만... 10년 지났다고 ??? 진짜 빠르네    설렘\n",
       "13361                         회사보다 욕을 더 많이 먹는 이상한 현대차 노조    분노\n",
       "18385                                        야식이 문제에용 ㅠㅠ    슬픔\n",
       "10672        애플이 또 마이웨이로! 근데 음질서 인정 받으면 다른 제조사서 분명 벤치마킹함    설렘\n",
       "15591                         융통성 전혀 없는 기득권층을 싹 다 조져버려야됨    분노\n",
       "8462                              지금 화나야 9승 무패 하겟다는거야???    설렘\n",
       "9551                              이 색히 들이 한국 축구의 미래라니...    설렘\n",
       "7934                                  캬~ 외교부는 하는일이 이런거임?    설렘\n",
       "17639          헤어지고 서로 다른 사람도 만나고 했는데저는 아직 미련이 많이 남았나봅니다    슬픔\n",
       "4364                 성격차이로 주변에서 헤어지는거 보니깐성격이 중요한가 싶어서요..    걱정\n",
       "431                                  나에대한 내신상를 캐묻지 않나...    걱정\n",
       "4151                                  아직 아기가 혼자 걷지는 못하구요    걱정\n",
       "2642                         이제 졸업하는데 뭐해먹고 살아야할지 모르겠습니다.    걱정\n",
       "12332                  미친개들만 댓글달았네 또라이새끼들 탄핵반대가 진정한 민심이다    분노\n",
       "7487   집정리중 수도요금이3년정도 미납이라 20만원이 나왔다고 우편물이 있어서 확인해보고 ...    설렘\n",
       "14884                                      이런ㄱ같은기사를클릭했다니    분노\n",
       "24063                        말도 잘 하고 얼굴도 예쁘고 못하는게 없는 유정이    행복"
      ]
     },
     "execution_count": 5,
     "metadata": {},
     "output_type": "execute_result"
    }
   ],
   "source": [
    "# 컬럼 명 변경\n",
    "data_pd = data_pd.rename(columns={'Sentence': 'sentence', 'Emotion': 'label'})\n",
    "\n",
    "# Unnamed 컬럼 제거\n",
    "data_pd = data_pd.drop('Unnamed: 0', axis=1)\n",
    "\n",
    "# 데이터를 무작위로 섞어준다\n",
    "shuffled_data = data_pd.sample(frac=1)\n",
    "shuffled_data.head(20)"
   ]
  },
  {
   "cell_type": "code",
   "execution_count": 6,
   "id": "56f95346-23b1-4573-9675-1f08a24b145a",
   "metadata": {},
   "outputs": [
    {
     "name": "stderr",
     "output_type": "stream",
     "text": [
      "/home/elicer/.local/lib/python3.10/site-packages/tqdm/auto.py:21: TqdmWarning: IProgress not found. Please update jupyter and ipywidgets. See https://ipywidgets.readthedocs.io/en/stable/user_install.html\n",
      "  from .autonotebook import tqdm as notebook_tqdm\n",
      "Some weights of the model checkpoint at monologg/distilkobert were not used when initializing DistilBertForSequenceClassification: ['vocab_transform.weight', 'vocab_layer_norm.bias', 'vocab_projector.weight', 'vocab_layer_norm.weight', 'vocab_projector.bias', 'vocab_transform.bias']\n",
      "- This IS expected if you are initializing DistilBertForSequenceClassification from the checkpoint of a model trained on another task or with another architecture (e.g. initializing a BertForSequenceClassification model from a BertForPreTraining model).\n",
      "- This IS NOT expected if you are initializing DistilBertForSequenceClassification from the checkpoint of a model that you expect to be exactly identical (initializing a BertForSequenceClassification model from a BertForSequenceClassification model).\n",
      "Some weights of DistilBertForSequenceClassification were not initialized from the model checkpoint at monologg/distilkobert and are newly initialized: ['pre_classifier.weight', 'classifier.weight', 'classifier.bias', 'pre_classifier.bias']\n",
      "You should probably TRAIN this model on a down-stream task to be able to use it for predictions and inference.\n",
      "The tokenizer class you load from this checkpoint is not the same type as the class this function is called from. It may result in unexpected tokenization. \n",
      "The tokenizer class you load from this checkpoint is 'DistilBertTokenizer'. \n",
      "The class this function is called from is 'KoBertTokenizer'.\n"
     ]
    }
   ],
   "source": [
    "from transformers import AutoModelForSequenceClassification\n",
    "from tokenization_kobert import KoBertTokenizer\n",
    "\n",
    "model = AutoModelForSequenceClassification.from_pretrained('monologg/distilkobert')\n",
    "tokenizer = KoBertTokenizer.from_pretrained('monologg/distilkobert')"
   ]
  },
  {
   "cell_type": "code",
   "execution_count": 7,
   "id": "4e4d5693-f6bc-43b7-9ca4-30b64b4c7f72",
   "metadata": {},
   "outputs": [
    {
     "data": {
      "text/plain": [
       "device(type='cuda')"
      ]
     },
     "execution_count": 7,
     "metadata": {},
     "output_type": "execute_result"
    }
   ],
   "source": [
    "import torch\n",
    "\n",
    "device = torch.device('cuda' if torch.cuda.is_available() else 'cpu')\n",
    "device"
   ]
  },
  {
   "cell_type": "code",
   "execution_count": 8,
   "id": "d724f57e-478d-4a67-97e5-e83c69234100",
   "metadata": {},
   "outputs": [],
   "source": [
    "# extract labels\n",
    "id2label = {}\n",
    "label2id = {}\n",
    "\n",
    "for i, label in enumerate(shuffled_data.label.unique()):\n",
    "    id2label[i] = label\n",
    "    label2id[label] = i"
   ]
  },
  {
   "cell_type": "code",
   "execution_count": 9,
   "id": "bae601d4-275d-4ff8-aacc-1e4564bbe314",
   "metadata": {},
   "outputs": [],
   "source": [
    "import torch\n",
    "from torch.utils.data import Dataset\n",
    "\n",
    "class CustomDataset(Dataset):\n",
    "    def __init__(self, df, label2id):\n",
    "        self.data = df.values\n",
    "        self.label2id = label2id\n",
    "    \n",
    "    def __len__(self):\n",
    "        return len(self.data)\n",
    "    \n",
    "    def __getitem__(self, idx):\n",
    "        result = self.data[idx, 0]\n",
    "        result = tokenizer(result, truncation=True, return_token_type_ids=False)\n",
    "        label = self.data[idx, -1]\n",
    "        label = self.label2id[label]\n",
    "        result['label'] = label\n",
    "        \n",
    "        return result"
   ]
  },
  {
   "cell_type": "code",
   "execution_count": 10,
   "id": "1ebde197-f6bf-48ab-8776-fb362f8112dc",
   "metadata": {},
   "outputs": [
    {
     "data": {
      "text/plain": [
       "({'input_ids': [2, 3969, 7003, 7096, 5330, 784, 6463, 5330, 6844, 1683, 7096, 2196, 6554, 5377, 6844, 3], 'attention_mask': [1, 1, 1, 1, 1, 1, 1, 1, 1, 1, 1, 1, 1, 1, 1, 1], 'label': 0},\n",
       " {'input_ids': [2, 1185, 5425, 671, 329, 316, 7096, 6886, 46, 1201, 1641, 7828, 2753, 5782, 54, 3], 'attention_mask': [1, 1, 1, 1, 1, 1, 1, 1, 1, 1, 1, 1, 1, 1, 1, 1], 'label': 1})"
      ]
     },
     "execution_count": 10,
     "metadata": {},
     "output_type": "execute_result"
    }
   ],
   "source": [
    "import pandas as pd\n",
    "from sklearn.model_selection import train_test_split\n",
    "from torch.utils.data import DataLoader, SubsetRandomSampler\n",
    "import random\n",
    "\n",
    "# pandas 데이터를 train, validation, test로 나눈다 (약 8:1:1 비율로 생성)\n",
    "train_df, validation_df = train_test_split(shuffled_data, test_size=0.1, random_state=42)\n",
    "\n",
    "# Dataset 생성\n",
    "train_ds, validation_ds = CustomDataset(train_df, label2id), CustomDataset(validation_df, label2id)\n",
    "\n",
    "train_ds.__getitem__(0), validation_ds.__getitem__(0)"
   ]
  },
  {
   "cell_type": "code",
   "execution_count": 11,
   "id": "9cdb9966-4709-48be-b184-f1393fdf559a",
   "metadata": {},
   "outputs": [
    {
     "data": {
      "image/png": "[encoded data removed]",
      "text/plain": [
       "<Figure size 640x480 with 1 Axes>"
      ]
     },
     "metadata": {},
     "output_type": "display_data"
    }
   ],
   "source": [
    "import pandas as pd\n",
    "import matplotlib.pyplot as plt\n",
    "\n",
    "plt.rcParams['font.family'] = 'NanumGothic' # 한글 폰트 설정\n",
    "\n",
    "train_df['label'].value_counts(ascending=True).plot.barh()\n",
    "plt.title('Frequency')\n",
    "plt.show()"
   ]
  },
  {
   "cell_type": "code",
   "execution_count": 12,
   "id": "61d3e1c2-ddda-4543-ba79-8b3ec5f24a9d",
   "metadata": {},
   "outputs": [
    {
     "name": "stderr",
     "output_type": "stream",
     "text": [
      "2023-05-03 08:46:08.306485: I tensorflow/core/util/port.cc:110] oneDNN custom operations are on. You may see slightly different numerical results due to floating-point round-off errors from different computation orders. To turn them off, set the environment variable `TF_ENABLE_ONEDNN_OPTS=0`.\n",
      "2023-05-03 08:46:08.352941: I tensorflow/core/platform/cpu_feature_guard.cc:182] This TensorFlow binary is optimized to use available CPU instructions in performance-critical operations.\n",
      "To enable the following instructions: AVX2 AVX512F AVX512_VNNI FMA, in other operations, rebuild TensorFlow with the appropriate compiler flags.\n",
      "2023-05-03 08:46:09.638361: W tensorflow/compiler/tf2tensorrt/utils/py_utils.cc:38] TF-TRT Warning: Could not find TensorRT\n"
     ]
    }
   ],
   "source": [
    "from transformers import DataCollatorWithPadding\n",
    "\n",
    "data_collator = DataCollatorWithPadding(tokenizer=tokenizer, padding='longest')"
   ]
  },
  {
   "cell_type": "code",
   "execution_count": 13,
   "id": "52f3afc8-66e8-413b-ae6b-eb52f34dbff1",
   "metadata": {},
   "outputs": [],
   "source": [
    "# Evalate\n",
    "import evaluate\n",
    "\n",
    "accuracy = evaluate.load('accuracy')"
   ]
  },
  {
   "cell_type": "code",
   "execution_count": 14,
   "id": "ce281d9b-e60b-430c-bbc7-678ecfd25b97",
   "metadata": {},
   "outputs": [],
   "source": [
    "def compute_metrics(eval_pred):\n",
    "    predictions, labels = eval_pred\n",
    "    predictions = np.argmax(predictions, axis=1)\n",
    "    return accuracy.compute(predictions=predictions, labels=labels)"
   ]
  },
  {
   "cell_type": "code",
   "execution_count": 15,
   "id": "f39aedd6-a8dc-48b3-8db4-028b91a3bbad",
   "metadata": {},
   "outputs": [
    {
     "name": "stderr",
     "output_type": "stream",
     "text": [
      "Some weights of the model checkpoint at monologg/distilkobert were not used when initializing DistilBertForSequenceClassification: ['vocab_transform.weight', 'vocab_layer_norm.bias', 'vocab_projector.weight', 'vocab_layer_norm.weight', 'vocab_projector.bias', 'vocab_transform.bias']\n",
      "- This IS expected if you are initializing DistilBertForSequenceClassification from the checkpoint of a model trained on another task or with another architecture (e.g. initializing a BertForSequenceClassification model from a BertForPreTraining model).\n",
      "- This IS NOT expected if you are initializing DistilBertForSequenceClassification from the checkpoint of a model that you expect to be exactly identical (initializing a BertForSequenceClassification model from a BertForSequenceClassification model).\n",
      "Some weights of DistilBertForSequenceClassification were not initialized from the model checkpoint at monologg/distilkobert and are newly initialized: ['pre_classifier.weight', 'classifier.weight', 'classifier.bias', 'pre_classifier.bias']\n",
      "You should probably TRAIN this model on a down-stream task to be able to use it for predictions and inference.\n"
     ]
    }
   ],
   "source": [
    "from transformers import AutoModelForSequenceClassification, TrainingArguments, Trainer\n",
    "\n",
    "model = AutoModelForSequenceClassification.from_pretrained(\n",
    "    \"monologg/distilkobert\", num_labels=len(id2label), id2label=id2label, label2id=label2id\n",
    ")"
   ]
  },
  {
   "cell_type": "code",
   "execution_count": 16,
   "id": "84f35c09-fe67-4400-b39e-fcf09191459b",
   "metadata": {},
   "outputs": [
    {
     "data": {
      "text/plain": [
       "DistilBertConfig {\n",
       "  \"_name_or_path\": \"monologg/distilkobert\",\n",
       "  \"activation\": \"gelu\",\n",
       "  \"architectures\": [\n",
       "    \"DistilBertForMaskedLM\"\n",
       "  ],\n",
       "  \"attention_dropout\": 0.1,\n",
       "  \"dim\": 768,\n",
       "  \"dropout\": 0.1,\n",
       "  \"hidden_dim\": 3072,\n",
       "  \"id2label\": {\n",
       "    \"0\": \"\\ubd84\\ub178\",\n",
       "    \"1\": \"\\ud589\\ubcf5\",\n",
       "    \"2\": \"\\uc124\\ub818\",\n",
       "    \"3\": \"\\uc2ac\\ud514\",\n",
       "    \"4\": \"\\uac71\\uc815\"\n",
       "  },\n",
       "  \"initializer_range\": 0.02,\n",
       "  \"label2id\": {\n",
       "    \"\\uac71\\uc815\": 4,\n",
       "    \"\\ubd84\\ub178\": 0,\n",
       "    \"\\uc124\\ub818\": 2,\n",
       "    \"\\uc2ac\\ud514\": 3,\n",
       "    \"\\ud589\\ubcf5\": 1\n",
       "  },\n",
       "  \"max_position_embeddings\": 512,\n",
       "  \"model_type\": \"distilbert\",\n",
       "  \"n_heads\": 12,\n",
       "  \"n_layers\": 3,\n",
       "  \"pad_token_id\": 1,\n",
       "  \"qa_dropout\": 0.1,\n",
       "  \"seq_classif_dropout\": 0.2,\n",
       "  \"sinusoidal_pos_embds\": false,\n",
       "  \"tie_weights_\": true,\n",
       "  \"transformers_version\": \"4.28.1\",\n",
       "  \"vocab_size\": 8002\n",
       "}"
      ]
     },
     "execution_count": 16,
     "metadata": {},
     "output_type": "execute_result"
    }
   ],
   "source": [
    "model.config"
   ]
  },
  {
   "cell_type": "code",
   "execution_count": 17,
   "id": "bd71226f-3191-4fb9-b4f0-d65817f8d909",
   "metadata": {},
   "outputs": [
    {
     "name": "stderr",
     "output_type": "stream",
     "text": [
      "/home/elicer/.local/lib/python3.10/site-packages/transformers/optimization.py:391: FutureWarning: This implementation of AdamW is deprecated and will be removed in a future version. Use the PyTorch implementation torch.optim.AdamW instead, or set `no_deprecation_warning=True` to disable this warning\n",
      "  warnings.warn(\n"
     ]
    },
    {
     "data": {
      "text/html": [
       "\n",
       "    <div>\n",
       "      \n",
       "      <progress value='47820' max='47820' style='width:300px; height:20px; vertical-align: middle;'></progress>\n",
       "      [47820/47820 42:56, Epoch 30/30]\n",
       "    </div>\n",
       "    <table border=\"1\" class=\"dataframe\">\n",
       "  <thead>\n",
       " <tr style=\"text-align: left;\">\n",
       "      <th>Step</th>\n",
       "      <th>Training Loss</th>\n",
       "      <th>Validation Loss</th>\n",
       "    </tr>\n",
       "  </thead>\n",
       "  <tbody>\n",
       "    <tr>\n",
       "      <td>1000</td>\n",
       "      <td>0.928100</td>\n",
       "      <td>0.907054</td>\n",
       "    </tr>\n",
       "    <tr>\n",
       "      <td>2000</td>\n",
       "      <td>0.790500</td>\n",
       "      <td>0.888770</td>\n",
       "    </tr>\n",
       "    <tr>\n",
       "      <td>3000</td>\n",
       "      <td>0.766800</td>\n",
       "      <td>0.853877</td>\n",
       "    </tr>\n",
       "    <tr>\n",
       "      <td>4000</td>\n",
       "      <td>0.639700</td>\n",
       "      <td>0.892415</td>\n",
       "    </tr>\n",
       "    <tr>\n",
       "      <td>5000</td>\n",
       "      <td>0.601700</td>\n",
       "      <td>0.944284</td>\n",
       "    </tr>\n",
       "    <tr>\n",
       "      <td>6000</td>\n",
       "      <td>0.552800</td>\n",
       "      <td>0.971075</td>\n",
       "    </tr>\n",
       "    <tr>\n",
       "      <td>7000</td>\n",
       "      <td>0.442400</td>\n",
       "      <td>1.047080</td>\n",
       "    </tr>\n",
       "    <tr>\n",
       "      <td>8000</td>\n",
       "      <td>0.463600</td>\n",
       "      <td>1.062313</td>\n",
       "    </tr>\n",
       "    <tr>\n",
       "      <td>9000</td>\n",
       "      <td>0.363400</td>\n",
       "      <td>1.219823</td>\n",
       "    </tr>\n",
       "    <tr>\n",
       "      <td>10000</td>\n",
       "      <td>0.303300</td>\n",
       "      <td>1.267353</td>\n",
       "    </tr>\n",
       "    <tr>\n",
       "      <td>11000</td>\n",
       "      <td>0.310600</td>\n",
       "      <td>1.290354</td>\n",
       "    </tr>\n",
       "    <tr>\n",
       "      <td>12000</td>\n",
       "      <td>0.235000</td>\n",
       "      <td>1.484292</td>\n",
       "    </tr>\n",
       "    <tr>\n",
       "      <td>13000</td>\n",
       "      <td>0.239200</td>\n",
       "      <td>1.476658</td>\n",
       "    </tr>\n",
       "    <tr>\n",
       "      <td>14000</td>\n",
       "      <td>0.215700</td>\n",
       "      <td>1.650130</td>\n",
       "    </tr>\n",
       "    <tr>\n",
       "      <td>15000</td>\n",
       "      <td>0.183900</td>\n",
       "      <td>1.769797</td>\n",
       "    </tr>\n",
       "    <tr>\n",
       "      <td>16000</td>\n",
       "      <td>0.172700</td>\n",
       "      <td>1.820831</td>\n",
       "    </tr>\n",
       "    <tr>\n",
       "      <td>17000</td>\n",
       "      <td>0.163400</td>\n",
       "      <td>1.976351</td>\n",
       "    </tr>\n",
       "    <tr>\n",
       "      <td>18000</td>\n",
       "      <td>0.136400</td>\n",
       "      <td>2.164539</td>\n",
       "    </tr>\n",
       "    <tr>\n",
       "      <td>19000</td>\n",
       "      <td>0.135400</td>\n",
       "      <td>2.181441</td>\n",
       "    </tr>\n",
       "    <tr>\n",
       "      <td>20000</td>\n",
       "      <td>0.115500</td>\n",
       "      <td>2.420711</td>\n",
       "    </tr>\n",
       "    <tr>\n",
       "      <td>21000</td>\n",
       "      <td>0.115400</td>\n",
       "      <td>2.472470</td>\n",
       "    </tr>\n",
       "    <tr>\n",
       "      <td>22000</td>\n",
       "      <td>0.116900</td>\n",
       "      <td>2.589641</td>\n",
       "    </tr>\n",
       "    <tr>\n",
       "      <td>23000</td>\n",
       "      <td>0.099500</td>\n",
       "      <td>2.686198</td>\n",
       "    </tr>\n",
       "    <tr>\n",
       "      <td>24000</td>\n",
       "      <td>0.102900</td>\n",
       "      <td>2.758188</td>\n",
       "    </tr>\n",
       "    <tr>\n",
       "      <td>25000</td>\n",
       "      <td>0.090500</td>\n",
       "      <td>2.907701</td>\n",
       "    </tr>\n",
       "    <tr>\n",
       "      <td>26000</td>\n",
       "      <td>0.073000</td>\n",
       "      <td>3.051704</td>\n",
       "    </tr>\n",
       "    <tr>\n",
       "      <td>27000</td>\n",
       "      <td>0.083700</td>\n",
       "      <td>3.027875</td>\n",
       "    </tr>\n",
       "    <tr>\n",
       "      <td>28000</td>\n",
       "      <td>0.070800</td>\n",
       "      <td>3.100868</td>\n",
       "    </tr>\n",
       "    <tr>\n",
       "      <td>29000</td>\n",
       "      <td>0.075100</td>\n",
       "      <td>3.171910</td>\n",
       "    </tr>\n",
       "    <tr>\n",
       "      <td>30000</td>\n",
       "      <td>0.066000</td>\n",
       "      <td>3.269293</td>\n",
       "    </tr>\n",
       "    <tr>\n",
       "      <td>31000</td>\n",
       "      <td>0.066900</td>\n",
       "      <td>3.343746</td>\n",
       "    </tr>\n",
       "    <tr>\n",
       "      <td>32000</td>\n",
       "      <td>0.055800</td>\n",
       "      <td>3.466856</td>\n",
       "    </tr>\n",
       "    <tr>\n",
       "      <td>33000</td>\n",
       "      <td>0.048600</td>\n",
       "      <td>3.438480</td>\n",
       "    </tr>\n",
       "    <tr>\n",
       "      <td>34000</td>\n",
       "      <td>0.050600</td>\n",
       "      <td>3.541608</td>\n",
       "    </tr>\n",
       "    <tr>\n",
       "      <td>35000</td>\n",
       "      <td>0.044100</td>\n",
       "      <td>3.566537</td>\n",
       "    </tr>\n",
       "    <tr>\n",
       "      <td>36000</td>\n",
       "      <td>0.042400</td>\n",
       "      <td>3.588694</td>\n",
       "    </tr>\n",
       "    <tr>\n",
       "      <td>37000</td>\n",
       "      <td>0.043700</td>\n",
       "      <td>3.622598</td>\n",
       "    </tr>\n",
       "    <tr>\n",
       "      <td>38000</td>\n",
       "      <td>0.048900</td>\n",
       "      <td>3.672125</td>\n",
       "    </tr>\n",
       "    <tr>\n",
       "      <td>39000</td>\n",
       "      <td>0.038300</td>\n",
       "      <td>3.813736</td>\n",
       "    </tr>\n",
       "    <tr>\n",
       "      <td>40000</td>\n",
       "      <td>0.038200</td>\n",
       "      <td>3.824165</td>\n",
       "    </tr>\n",
       "    <tr>\n",
       "      <td>41000</td>\n",
       "      <td>0.040400</td>\n",
       "      <td>3.839610</td>\n",
       "    </tr>\n",
       "    <tr>\n",
       "      <td>42000</td>\n",
       "      <td>0.037000</td>\n",
       "      <td>3.876242</td>\n",
       "    </tr>\n",
       "    <tr>\n",
       "      <td>43000</td>\n",
       "      <td>0.035700</td>\n",
       "      <td>3.904015</td>\n",
       "    </tr>\n",
       "    <tr>\n",
       "      <td>44000</td>\n",
       "      <td>0.024400</td>\n",
       "      <td>3.966599</td>\n",
       "    </tr>\n",
       "    <tr>\n",
       "      <td>45000</td>\n",
       "      <td>0.029200</td>\n",
       "      <td>3.902844</td>\n",
       "    </tr>\n",
       "    <tr>\n",
       "      <td>46000</td>\n",
       "      <td>0.033700</td>\n",
       "      <td>3.933893</td>\n",
       "    </tr>\n",
       "    <tr>\n",
       "      <td>47000</td>\n",
       "      <td>0.025800</td>\n",
       "      <td>3.938082</td>\n",
       "    </tr>\n",
       "  </tbody>\n",
       "</table><p>"
      ],
      "text/plain": [
       "<IPython.core.display.HTML object>"
      ]
     },
     "metadata": {},
     "output_type": "display_data"
    },
    {
     "data": {
      "text/plain": [
       "TrainOutput(global_step=47820, training_loss=0.2033528541830582, metrics={'train_runtime': 2577.5337, 'train_samples_per_second': 296.807, 'train_steps_per_second': 18.553, 'total_flos': 3499586112181074.0, 'train_loss': 0.2033528541830582, 'epoch': 30.0})"
      ]
     },
     "execution_count": 17,
     "metadata": {},
     "output_type": "execute_result"
    }
   ],
   "source": [
    "import numpy as np\n",
    "\n",
    "training_args = TrainingArguments(\n",
    "    output_dir=\"my_awesome_model\",\n",
    "    learning_rate=4e-5,\n",
    "    per_device_train_batch_size=16,\n",
    "    per_device_eval_batch_size=16,\n",
    "    num_train_epochs=30,\n",
    "    weight_decay=0.01,\n",
    "    evaluation_strategy=\"steps\",\n",
    "    save_strategy=\"steps\",\n",
    "    eval_steps=1000, \n",
    "    save_steps=1000,\n",
    "    save_total_limit=10,\n",
    "    load_best_model_at_end=True\n",
    ")\n",
    "\n",
    "trainer = Trainer(\n",
    "    model=model,\n",
    "    args=training_args,\n",
    "    train_dataset=train_ds,\n",
    "    eval_dataset=validation_ds,\n",
    "#    tokenizer=tokenizer,\n",
    "    data_collator=data_collator,\n",
    "    # compute_metrics=compute_metrics,\n",
    ")\n",
    "\n",
    "trainer.train()"
   ]
  },
  {
   "cell_type": "code",
   "execution_count": 26,
   "id": "f4596daa-ea61-471e-af05-92f055612d0a",
   "metadata": {},
   "outputs": [
    {
     "data": {
      "text/plain": [
       "'4.28.1'"
      ]
     },
     "execution_count": 26,
     "metadata": {},
     "output_type": "execute_result"
    }
   ],
   "source": [
    "import transformers\n",
    "\n",
    "transformers.__version__"
   ]
  },
  {
   "cell_type": "code",
   "execution_count": 27,
   "id": "273088ab-1c62-4ee5-b702-bb7bea13ec37",
   "metadata": {},
   "outputs": [
    {
     "data": {
      "text/plain": [
       "{'input_ids': [2, 1741, 7848, 6241, 5468, 2298, 5907, 6516, 7096, 1907, 6113, 5439, 517, 0, 5861, 4924, 5757, 5778, 7096, 2355, 7005, 7782, 6493, 3503, 1931, 6579, 2095, 5521, 7941, 2650, 7422, 6122, 5112, 6060, 5350, 6516, 1682, 6498, 1682, 7078, 1315, 7096, 2355, 7207, 7782, 6579, 3], 'token_type_ids': [0, 0, 0, 0, 0, 0, 0, 0, 0, 0, 0, 0, 0, 0, 0, 0, 0, 0, 0, 0, 0, 0, 0, 0, 0, 0, 0, 0, 0, 0, 0, 0, 0, 0, 0, 0, 0, 0, 0, 0, 0, 0, 0, 0, 0, 0, 0], 'attention_mask': [1, 1, 1, 1, 1, 1, 1, 1, 1, 1, 1, 1, 1, 1, 1, 1, 1, 1, 1, 1, 1, 1, 1, 1, 1, 1, 1, 1, 1, 1, 1, 1, 1, 1, 1, 1, 1, 1, 1, 1, 1, 1, 1, 1, 1, 1, 1]}"
      ]
     },
     "execution_count": 27,
     "metadata": {},
     "output_type": "execute_result"
    }
   ],
   "source": [
    "tokenizer(\"동해물과 백두산이 마르고 닳도록 하느님이 보우하사 우리나라 만세 무궁화 삼천리 화려강산 대한사람 대한으로 길이 보전하세\")"
   ]
  },
  {
   "cell_type": "code",
   "execution_count": 28,
   "id": "9f43b8f6-48fb-4f9b-b28d-6982577fddf8",
   "metadata": {},
   "outputs": [],
   "source": [
    "from transformers import pipeline\n",
    "\n",
    "# 파이프라인 가져올 때 model은 사용중인 model을 주면 댐\n",
    "classifier = pipeline(\"sentiment-analysis\", model=model, tokenizer=tokenizer)"
   ]
  },
  {
   "cell_type": "code",
   "execution_count": 29,
   "id": "d2485604-9dcf-47e4-8d8a-0bcdf4b6de8e",
   "metadata": {},
   "outputs": [
    {
     "data": {
      "text/html": [],
      "text/plain": [
       "<IPython.core.display.HTML object>"
      ]
     },
     "metadata": {},
     "output_type": "display_data"
    },
    {
     "name": "stdout",
     "output_type": "stream",
     "text": [
      "PredictionOutput(predictions=array([[-1.2809967 ,  3.6790671 ,  0.9832602 , -1.5688157 , -2.123395  ],\n",
      "       [ 0.03402498, -1.9387466 ,  0.20443292, -0.5621677 ,  2.0138688 ],\n",
      "       [-0.62504804,  4.954041  , -0.4894142 , -1.3548497 , -2.5089657 ],\n",
      "       ...,\n",
      "       [-0.39135134, -1.7518071 , -1.6600356 ,  3.3496454 ,  0.4000396 ],\n",
      "       [-0.76353097, -2.518071  ,  0.5273149 ,  1.8723494 ,  1.0068396 ],\n",
      "       [-1.0244613 , -0.3568666 ,  2.5443645 , -1.0372616 , -0.17795065]],\n",
      "      dtype=float32), label_ids=array([1, 4, 1, ..., 3, 3, 2]), metrics={'test_loss': 0.8538766503334045, 'test_runtime': 2.8963, 'test_samples_per_second': 978.48, 'test_steps_per_second': 61.457})\n"
     ]
    }
   ],
   "source": [
    "yhat = trainer.predict(validation_ds)\n",
    "print(yhat)"
   ]
  },
  {
   "cell_type": "code",
   "execution_count": 30,
   "id": "41e68c88-1146-41ce-83b6-6a3749456896",
   "metadata": {},
   "outputs": [
    {
     "data": {
      "text/plain": [
       "{'accuracy': 0.6792519407198306}"
      ]
     },
     "execution_count": 30,
     "metadata": {},
     "output_type": "execute_result"
    }
   ],
   "source": [
    "predictions = yhat[0]\n",
    "labels = yhat[1]\n",
    "predictions = np.argmax(predictions, axis=1)\n",
    "\n",
    "accuracy.compute(predictions=predictions, references=labels)"
   ]
  },
  {
   "cell_type": "code",
   "execution_count": 31,
   "id": "877cdfd1-c308-4393-a343-85c994bb432f",
   "metadata": {},
   "outputs": [],
   "source": [
    "# 오차행렬 생성\n",
    "from sklearn.metrics import ConfusionMatrixDisplay, confusion_matrix\n",
    "\n",
    "def plot_confusion_matrix(y_preds, y_true, labels):\n",
    "    cm = confusion_matrix(y_true, y_preds, normalize=\"true\")\n",
    "    fig, ax = plt.subplots(figsize=(6, 6))\n",
    "    disp = ConfusionMatrixDisplay(confusion_matrix=cm, display_labels=labels)\n",
    "    disp.plot(cmap=\"Blues\", values_format=\".2f\", ax=ax, colorbar=False)\n",
    "    plt.title(\"Normalized confusion matrix\")\n",
    "    plt.show()"
   ]
  },
  {
   "cell_type": "code",
   "execution_count": 32,
   "id": "23dcbc2b-5ec4-4f50-87d9-375d0eedb438",
   "metadata": {},
   "outputs": [
    {
     "data": {
      "text/plain": [
       "4"
      ]
     },
     "execution_count": 32,
     "metadata": {},
     "output_type": "execute_result"
    }
   ],
   "source": [
    "validation_ds[1][\"label\"]"
   ]
  },
  {
   "cell_type": "code",
   "execution_count": 33,
   "id": "f68926ef-8d57-4611-aa81-497b0e5007df",
   "metadata": {},
   "outputs": [
    {
     "data": {
      "image/png": "[encoded data removed]",
      "text/plain": [
       "<Figure size 600x600 with 1 Axes>"
      ]
     },
     "metadata": {},
     "output_type": "display_data"
    }
   ],
   "source": [
    "# 답안지\n",
    "y_valid = [data[\"label\"] for data in validation_ds]\n",
    "y_valid = [id2label[label] for label in y_valid]\n",
    "\n",
    "# 예측치\n",
    "y_preds = [id2label[label] for label in predictions]\n",
    "\n",
    "# labels\n",
    "labels = label2id.keys()\n",
    "\n",
    "plot_confusion_matrix(y_preds, y_valid, labels)"
   ]
  },
  {
   "cell_type": "code",
   "execution_count": null,
   "id": "aeb4ab72-1b08-4041-b3bb-c63fbc2bde49",
   "metadata": {},
   "outputs": [],
   "source": []
  }
 ],
 "metadata": {
  "kernelspec": {
   "display_name": "Python 3 (ipykernel)",
   "language": "python",
   "name": "python3"
  },
  "language_info": {
   "codemirror_mode": {
    "name": "ipython",
    "version": 3
   },
   "file_extension": ".py",
   "mimetype": "text/x-python",
   "name": "python",
   "nbconvert_exporter": "python",
   "pygments_lexer": "ipython3",
   "version": "3.10.10"
  }
 },
 "nbformat": 4,
 "nbformat_minor": 5
}
