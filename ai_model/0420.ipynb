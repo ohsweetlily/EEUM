{
 "cells": [
  {
   "cell_type": "code",
   "execution_count": 1,
   "id": "ac5f6de3",
   "metadata": {},
   "outputs": [],
   "source": [
    "import pandas as pd"
   ]
  },
  {
   "cell_type": "code",
   "execution_count": 2,
   "id": "0c8bb225",
   "metadata": {},
   "outputs": [],
   "source": [
    "data_dy = pd.read_excel('data/78b05ad4fa1d0e53.xlsx')\n",
    "data_sw = pd.read_excel('data/스마트폰_라이프로그_데이터.xlsx')"
   ]
  },
  {
   "cell_type": "code",
   "execution_count": 3,
   "id": "e620822d",
   "metadata": {},
   "outputs": [
    {
     "name": "stdout",
     "output_type": "stream",
     "text": [
      "<class 'pandas.core.frame.DataFrame'>\n",
      "RangeIndex: 38594 entries, 0 to 38593\n",
      "Data columns (total 7 columns):\n",
      " #   Column      Non-Null Count  Dtype  \n",
      "---  ------      --------------  -----  \n",
      " 0   Sentence    38594 non-null  object \n",
      " 1   Emotion     38594 non-null  object \n",
      " 2   Unnamed: 2  0 non-null      float64\n",
      " 3   Unnamed: 3  0 non-null      float64\n",
      " 4   Unnamed: 4  0 non-null      float64\n",
      " 5   공포          7 non-null      object \n",
      " 6   5468        7 non-null      float64\n",
      "dtypes: float64(4), object(3)\n",
      "memory usage: 2.1+ MB\n"
     ]
    }
   ],
   "source": [
    "data_dy.info()"
   ]
  },
  {
   "cell_type": "code",
   "execution_count": 4,
   "id": "009d02fb",
   "metadata": {},
   "outputs": [
    {
     "data": {
      "text/plain": [
       "행복    6037\n",
       "놀람    5898\n",
       "분노    5665\n",
       "공포    5468\n",
       "혐오    5429\n",
       "슬픔    5267\n",
       "중립    4830\n",
       "Name: Emotion, dtype: int64"
      ]
     },
     "execution_count": 4,
     "metadata": {},
     "output_type": "execute_result"
    }
   ],
   "source": [
    "data_dy[\"Emotion\"].value_counts()"
   ]
  },
  {
   "cell_type": "code",
   "execution_count": 5,
   "id": "c7e461fa",
   "metadata": {},
   "outputs": [
    {
     "data": {
      "text/html": [
       "<div>\n",
       "<style scoped>\n",
       "    .dataframe tbody tr th:only-of-type {\n",
       "        vertical-align: middle;\n",
       "    }\n",
       "\n",
       "    .dataframe tbody tr th {\n",
       "        vertical-align: top;\n",
       "    }\n",
       "\n",
       "    .dataframe thead th {\n",
       "        text-align: right;\n",
       "    }\n",
       "</style>\n",
       "<table border=\"1\" class=\"dataframe\">\n",
       "  <thead>\n",
       "    <tr style=\"text-align: right;\">\n",
       "      <th></th>\n",
       "      <th>Sentence</th>\n",
       "      <th>Emotion</th>\n",
       "    </tr>\n",
       "  </thead>\n",
       "  <tbody>\n",
       "    <tr>\n",
       "      <th>0</th>\n",
       "      <td>언니 동생으로 부르는게 맞는 일인가요..??</td>\n",
       "      <td>공포</td>\n",
       "    </tr>\n",
       "    <tr>\n",
       "      <th>1</th>\n",
       "      <td>그냥 내 느낌일뿐겠지?</td>\n",
       "      <td>공포</td>\n",
       "    </tr>\n",
       "    <tr>\n",
       "      <th>2</th>\n",
       "      <td>아직너무초기라서 그런거죠?</td>\n",
       "      <td>공포</td>\n",
       "    </tr>\n",
       "    <tr>\n",
       "      <th>3</th>\n",
       "      <td>유치원버스 사고 낫다던데</td>\n",
       "      <td>공포</td>\n",
       "    </tr>\n",
       "    <tr>\n",
       "      <th>4</th>\n",
       "      <td>근데 원래이런거맞나요</td>\n",
       "      <td>공포</td>\n",
       "    </tr>\n",
       "  </tbody>\n",
       "</table>\n",
       "</div>"
      ],
      "text/plain": [
       "                   Sentence Emotion\n",
       "0  언니 동생으로 부르는게 맞는 일인가요..??      공포\n",
       "1              그냥 내 느낌일뿐겠지?      공포\n",
       "2            아직너무초기라서 그런거죠?      공포\n",
       "3             유치원버스 사고 낫다던데      공포\n",
       "4               근데 원래이런거맞나요      공포"
      ]
     },
     "execution_count": 5,
     "metadata": {},
     "output_type": "execute_result"
    }
   ],
   "source": [
    "test_dy = data_dy[['Sentence','Emotion']]\n",
    "test_dy.head()"
   ]
  },
  {
   "cell_type": "code",
   "execution_count": 6,
   "id": "21480aa8",
   "metadata": {},
   "outputs": [
    {
     "name": "stdout",
     "output_type": "stream",
     "text": [
      "<class 'pandas.core.frame.DataFrame'>\n",
      "RangeIndex: 9742 entries, 0 to 9741\n",
      "Data columns (total 18 columns):\n",
      " #   Column                          Non-Null Count  Dtype         \n",
      "---  ------                          --------------  -----         \n",
      " 0   uid                             9742 non-null   int64         \n",
      " 1   deleted_flag                    9742 non-null   int64         \n",
      " 2   name                            9373 non-null   object        \n",
      " 3   timestamp                       9742 non-null   datetime64[ns]\n",
      " 4   place                           5936 non-null   object        \n",
      " 5   code_time                       9742 non-null   object        \n",
      " 6   code_weather                    5848 non-null   object        \n",
      " 7   code_affect                     9742 non-null   object        \n",
      " 8   code_affect_secondary           122 non-null    object        \n",
      " 9   code_affect_secondary.1         122 non-null    object        \n",
      " 10  code_affect_original            9742 non-null   object        \n",
      " 11  code_affect_original_secondary  9742 non-null   object        \n",
      " 12  code_worry                      9742 non-null   object        \n",
      " 13  code_worry_original             9674 non-null   object        \n",
      " 14  text                            9740 non-null   object        \n",
      " 15  Unnamed: 15                     6 non-null      object        \n",
      " 16  Unnamed: 16                     0 non-null      float64       \n",
      " 17  Unnamed: 17                     2 non-null      object        \n",
      "dtypes: datetime64[ns](1), float64(1), int64(2), object(14)\n",
      "memory usage: 1.3+ MB\n"
     ]
    }
   ],
   "source": [
    "data_sw.info()"
   ]
  },
  {
   "cell_type": "code",
   "execution_count": 7,
   "id": "8ce20dca",
   "metadata": {},
   "outputs": [
    {
     "data": {
      "text/plain": [
       "평안      2849\n",
       "싫음      1599\n",
       "안타까움    1073\n",
       "바람      1033\n",
       "슬픔       712\n",
       "행복       624\n",
       "짜증남      433\n",
       "만족       300\n",
       "불안       129\n",
       "없음       122\n",
       "놀람        98\n",
       "분노        97\n",
       "괴로움       95\n",
       "기쁨        90\n",
       "즐거움       66\n",
       "감동        62\n",
       "설렘        61\n",
       "실망        52\n",
       "고마움       46\n",
       "사랑        38\n",
       "그리움       34\n",
       "미워함       29\n",
       "두려움       26\n",
       "부러움       16\n",
       "후회        15\n",
       "지루함        8\n",
       "자신감        8\n",
       "창피함        7\n",
       "당황         6\n",
       "무관심        5\n",
       "외로움        4\n",
       "홀가분함       2\n",
       "억울함        2\n",
       "미안함        1\n",
       "Name: code_affect_original, dtype: int64"
      ]
     },
     "execution_count": 7,
     "metadata": {},
     "output_type": "execute_result"
    }
   ],
   "source": [
    "data_sw[\"code_affect_original\"].value_counts()"
   ]
  },
  {
   "cell_type": "code",
   "execution_count": 8,
   "id": "867b1168",
   "metadata": {},
   "outputs": [
    {
     "data": {
      "text/plain": [
       "(38594, 7)"
      ]
     },
     "execution_count": 8,
     "metadata": {},
     "output_type": "execute_result"
    }
   ],
   "source": [
    "data_dy.shape"
   ]
  },
  {
   "cell_type": "code",
   "execution_count": 9,
   "id": "ad98c12e",
   "metadata": {},
   "outputs": [
    {
     "data": {
      "text/plain": [
       "(9742, 18)"
      ]
     },
     "execution_count": 9,
     "metadata": {},
     "output_type": "execute_result"
    }
   ],
   "source": [
    "data_sw.shape"
   ]
  },
  {
   "cell_type": "code",
   "execution_count": 10,
   "id": "89be6ca7",
   "metadata": {},
   "outputs": [
    {
     "name": "stdout",
     "output_type": "stream",
     "text": [
      "싫음\n"
     ]
    }
   ],
   "source": [
    "def checkEmotion(x):\n",
    "    arr_emotion = [[\"설렘\", \"바람\"],[\"행복\", \"만족\", \"홀가분함\"],['기쁨', '즐거움'],['감동','고마움'],\n",
    "               ['싫음', '분노','실망','짜증남','미워함'],['괴로움','안타까움','불안','두려움','공포'],['슬픔', '외로움','억울함'],\n",
    "               ['후회', '미안함'], [\"당황\", '창피함'],['중립','평안','놀람','그리움','부러움','무관심']]\n",
    "    for emotion in arr_emotion:\n",
    "        if x in emotion:\n",
    "            return emotion[0]\n",
    "        \n",
    "        \n",
    "test = checkEmotion(\"분노\")\n",
    "print(test)"
   ]
  },
  {
   "cell_type": "code",
   "execution_count": 11,
   "id": "c67641ec",
   "metadata": {},
   "outputs": [
    {
     "data": {
      "text/html": [
       "<div>\n",
       "<style scoped>\n",
       "    .dataframe tbody tr th:only-of-type {\n",
       "        vertical-align: middle;\n",
       "    }\n",
       "\n",
       "    .dataframe tbody tr th {\n",
       "        vertical-align: top;\n",
       "    }\n",
       "\n",
       "    .dataframe thead th {\n",
       "        text-align: right;\n",
       "    }\n",
       "</style>\n",
       "<table border=\"1\" class=\"dataframe\">\n",
       "  <thead>\n",
       "    <tr style=\"text-align: right;\">\n",
       "      <th></th>\n",
       "      <th>Sentence</th>\n",
       "      <th>Emotion</th>\n",
       "    </tr>\n",
       "  </thead>\n",
       "  <tbody>\n",
       "    <tr>\n",
       "      <th>0</th>\n",
       "      <td>언니 동생으로 부르는게 맞는 일인가요..??</td>\n",
       "      <td>공포</td>\n",
       "    </tr>\n",
       "    <tr>\n",
       "      <th>1</th>\n",
       "      <td>그냥 내 느낌일뿐겠지?</td>\n",
       "      <td>공포</td>\n",
       "    </tr>\n",
       "    <tr>\n",
       "      <th>2</th>\n",
       "      <td>아직너무초기라서 그런거죠?</td>\n",
       "      <td>공포</td>\n",
       "    </tr>\n",
       "    <tr>\n",
       "      <th>3</th>\n",
       "      <td>유치원버스 사고 낫다던데</td>\n",
       "      <td>공포</td>\n",
       "    </tr>\n",
       "    <tr>\n",
       "      <th>4</th>\n",
       "      <td>근데 원래이런거맞나요</td>\n",
       "      <td>공포</td>\n",
       "    </tr>\n",
       "  </tbody>\n",
       "</table>\n",
       "</div>"
      ],
      "text/plain": [
       "                   Sentence Emotion\n",
       "0  언니 동생으로 부르는게 맞는 일인가요..??      공포\n",
       "1              그냥 내 느낌일뿐겠지?      공포\n",
       "2            아직너무초기라서 그런거죠?      공포\n",
       "3             유치원버스 사고 낫다던데      공포\n",
       "4               근데 원래이런거맞나요      공포"
      ]
     },
     "execution_count": 11,
     "metadata": {},
     "output_type": "execute_result"
    }
   ],
   "source": [
    "test1 = data_dy[['Sentence','Emotion']]\n",
    "test1.head()"
   ]
  },
  {
   "cell_type": "code",
   "execution_count": 12,
   "id": "25140e47",
   "metadata": {},
   "outputs": [
    {
     "name": "stdout",
     "output_type": "stream",
     "text": [
      "0        공포\n",
      "1        공포\n",
      "2        공포\n",
      "3        공포\n",
      "4        공포\n",
      "         ..\n",
      "38589    혐오\n",
      "38590    혐오\n",
      "38591    혐오\n",
      "38592    혐오\n",
      "38593    혐오\n",
      "Name: Emotion, Length: 38594, dtype: object\n"
     ]
    }
   ],
   "source": [
    "print(test1[\"Emotion\"])"
   ]
  },
  {
   "cell_type": "code",
   "execution_count": 13,
   "id": "c9c34ecd",
   "metadata": {},
   "outputs": [
    {
     "name": "stderr",
     "output_type": "stream",
     "text": [
      "C:\\Users\\shelk\\AppData\\Local\\Temp\\ipykernel_1128\\2352672286.py:1: SettingWithCopyWarning: \n",
      "A value is trying to be set on a copy of a slice from a DataFrame.\n",
      "Try using .loc[row_indexer,col_indexer] = value instead\n",
      "\n",
      "See the caveats in the documentation: https://pandas.pydata.org/pandas-docs/stable/user_guide/indexing.html#returning-a-view-versus-a-copy\n",
      "  test1[\"test\"] = test1[\"Emotion\"].apply(checkEmotion)\n"
     ]
    }
   ],
   "source": [
    "test1[\"test\"] = test1[\"Emotion\"].apply(checkEmotion)"
   ]
  },
  {
   "cell_type": "code",
   "execution_count": 14,
   "id": "912ec0ff",
   "metadata": {},
   "outputs": [
    {
     "data": {
      "text/html": [
       "<div>\n",
       "<style scoped>\n",
       "    .dataframe tbody tr th:only-of-type {\n",
       "        vertical-align: middle;\n",
       "    }\n",
       "\n",
       "    .dataframe tbody tr th {\n",
       "        vertical-align: top;\n",
       "    }\n",
       "\n",
       "    .dataframe thead th {\n",
       "        text-align: right;\n",
       "    }\n",
       "</style>\n",
       "<table border=\"1\" class=\"dataframe\">\n",
       "  <thead>\n",
       "    <tr style=\"text-align: right;\">\n",
       "      <th></th>\n",
       "      <th>Sentence</th>\n",
       "      <th>Emotion</th>\n",
       "      <th>test</th>\n",
       "    </tr>\n",
       "  </thead>\n",
       "  <tbody>\n",
       "    <tr>\n",
       "      <th>0</th>\n",
       "      <td>언니 동생으로 부르는게 맞는 일인가요..??</td>\n",
       "      <td>공포</td>\n",
       "      <td>괴로움</td>\n",
       "    </tr>\n",
       "    <tr>\n",
       "      <th>1</th>\n",
       "      <td>그냥 내 느낌일뿐겠지?</td>\n",
       "      <td>공포</td>\n",
       "      <td>괴로움</td>\n",
       "    </tr>\n",
       "    <tr>\n",
       "      <th>2</th>\n",
       "      <td>아직너무초기라서 그런거죠?</td>\n",
       "      <td>공포</td>\n",
       "      <td>괴로움</td>\n",
       "    </tr>\n",
       "    <tr>\n",
       "      <th>3</th>\n",
       "      <td>유치원버스 사고 낫다던데</td>\n",
       "      <td>공포</td>\n",
       "      <td>괴로움</td>\n",
       "    </tr>\n",
       "    <tr>\n",
       "      <th>4</th>\n",
       "      <td>근데 원래이런거맞나요</td>\n",
       "      <td>공포</td>\n",
       "      <td>괴로움</td>\n",
       "    </tr>\n",
       "  </tbody>\n",
       "</table>\n",
       "</div>"
      ],
      "text/plain": [
       "                   Sentence Emotion test\n",
       "0  언니 동생으로 부르는게 맞는 일인가요..??      공포  괴로움\n",
       "1              그냥 내 느낌일뿐겠지?      공포  괴로움\n",
       "2            아직너무초기라서 그런거죠?      공포  괴로움\n",
       "3             유치원버스 사고 낫다던데      공포  괴로움\n",
       "4               근데 원래이런거맞나요      공포  괴로움"
      ]
     },
     "execution_count": 14,
     "metadata": {},
     "output_type": "execute_result"
    }
   ],
   "source": [
    "test1.head()"
   ]
  },
  {
   "cell_type": "code",
   "execution_count": 15,
   "id": "81092b59",
   "metadata": {},
   "outputs": [
    {
     "data": {
      "text/plain": [
       "중립     10728\n",
       "행복      6037\n",
       "싫음      5665\n",
       "괴로움     5468\n",
       "슬픔      5267\n",
       "Name: test, dtype: int64"
      ]
     },
     "execution_count": 15,
     "metadata": {},
     "output_type": "execute_result"
    }
   ],
   "source": [
    "test1[\"test\"].value_counts()"
   ]
  },
  {
   "cell_type": "code",
   "execution_count": 16,
   "id": "808ccd7e",
   "metadata": {},
   "outputs": [],
   "source": [
    "test2 = data_sw[[\"text\",\"code_affect_original\"]]"
   ]
  },
  {
   "cell_type": "code",
   "execution_count": 17,
   "id": "a5c9b9f2",
   "metadata": {},
   "outputs": [
    {
     "data": {
      "text/html": [
       "<div>\n",
       "<style scoped>\n",
       "    .dataframe tbody tr th:only-of-type {\n",
       "        vertical-align: middle;\n",
       "    }\n",
       "\n",
       "    .dataframe tbody tr th {\n",
       "        vertical-align: top;\n",
       "    }\n",
       "\n",
       "    .dataframe thead th {\n",
       "        text-align: right;\n",
       "    }\n",
       "</style>\n",
       "<table border=\"1\" class=\"dataframe\">\n",
       "  <thead>\n",
       "    <tr style=\"text-align: right;\">\n",
       "      <th></th>\n",
       "      <th>text</th>\n",
       "      <th>code_affect_original</th>\n",
       "    </tr>\n",
       "  </thead>\n",
       "  <tbody>\n",
       "    <tr>\n",
       "      <th>0</th>\n",
       "      <td>자기에게만 관대하고 남에게 엄격한 자들아 남에개만 엄격하더라도 인정할건 좀 하자.</td>\n",
       "      <td>평안</td>\n",
       "    </tr>\n",
       "    <tr>\n",
       "      <th>1</th>\n",
       "      <td>정신없는 하루였다...\\n벌써 퇴근시간이 다가오네</td>\n",
       "      <td>평안</td>\n",
       "    </tr>\n",
       "    <tr>\n",
       "      <th>2</th>\n",
       "      <td>아침부터 쉼 없이 달려온 오늘 #하루\\n잘 하고 있는건지 잘 모르겠지만.\\n또 힘을...</td>\n",
       "      <td>싫음</td>\n",
       "    </tr>\n",
       "    <tr>\n",
       "      <th>3</th>\n",
       "      <td>하루종일 긴장의 연속.\\n목이 뻐근하고 눈도 뻑뻑하고.\\n#직장생활 은 왜 늘 어렵...</td>\n",
       "      <td>싫음</td>\n",
       "    </tr>\n",
       "    <tr>\n",
       "      <th>4</th>\n",
       "      <td>처음으로 무엇인가를 만나는 날의 설렘을 다시 느낀다</td>\n",
       "      <td>평안</td>\n",
       "    </tr>\n",
       "  </tbody>\n",
       "</table>\n",
       "</div>"
      ],
      "text/plain": [
       "                                                text code_affect_original\n",
       "0      자기에게만 관대하고 남에게 엄격한 자들아 남에개만 엄격하더라도 인정할건 좀 하자.                   평안\n",
       "1                        정신없는 하루였다...\\n벌써 퇴근시간이 다가오네                   평안\n",
       "2  아침부터 쉼 없이 달려온 오늘 #하루\\n잘 하고 있는건지 잘 모르겠지만.\\n또 힘을...                   싫음\n",
       "3  하루종일 긴장의 연속.\\n목이 뻐근하고 눈도 뻑뻑하고.\\n#직장생활 은 왜 늘 어렵...                   싫음\n",
       "4                       처음으로 무엇인가를 만나는 날의 설렘을 다시 느낀다                   평안"
      ]
     },
     "execution_count": 17,
     "metadata": {},
     "output_type": "execute_result"
    }
   ],
   "source": [
    "test2.head()"
   ]
  },
  {
   "cell_type": "code",
   "execution_count": 18,
   "id": "ce6c2ce4",
   "metadata": {},
   "outputs": [
    {
     "name": "stderr",
     "output_type": "stream",
     "text": [
      "C:\\Users\\shelk\\AppData\\Local\\Temp\\ipykernel_1128\\2474289453.py:1: SettingWithCopyWarning: \n",
      "A value is trying to be set on a copy of a slice from a DataFrame.\n",
      "Try using .loc[row_indexer,col_indexer] = value instead\n",
      "\n",
      "See the caveats in the documentation: https://pandas.pydata.org/pandas-docs/stable/user_guide/indexing.html#returning-a-view-versus-a-copy\n",
      "  test2[\"test\"] = test2[\"code_affect_original\"].apply(checkEmotion)\n"
     ]
    }
   ],
   "source": [
    "test2[\"test\"] = test2[\"code_affect_original\"].apply(checkEmotion)"
   ]
  },
  {
   "cell_type": "code",
   "execution_count": 19,
   "id": "a2dc4636",
   "metadata": {},
   "outputs": [
    {
     "data": {
      "text/html": [
       "<div>\n",
       "<style scoped>\n",
       "    .dataframe tbody tr th:only-of-type {\n",
       "        vertical-align: middle;\n",
       "    }\n",
       "\n",
       "    .dataframe tbody tr th {\n",
       "        vertical-align: top;\n",
       "    }\n",
       "\n",
       "    .dataframe thead th {\n",
       "        text-align: right;\n",
       "    }\n",
       "</style>\n",
       "<table border=\"1\" class=\"dataframe\">\n",
       "  <thead>\n",
       "    <tr style=\"text-align: right;\">\n",
       "      <th></th>\n",
       "      <th>text</th>\n",
       "      <th>code_affect_original</th>\n",
       "      <th>test</th>\n",
       "    </tr>\n",
       "  </thead>\n",
       "  <tbody>\n",
       "    <tr>\n",
       "      <th>0</th>\n",
       "      <td>자기에게만 관대하고 남에게 엄격한 자들아 남에개만 엄격하더라도 인정할건 좀 하자.</td>\n",
       "      <td>평안</td>\n",
       "      <td>중립</td>\n",
       "    </tr>\n",
       "    <tr>\n",
       "      <th>1</th>\n",
       "      <td>정신없는 하루였다...\\n벌써 퇴근시간이 다가오네</td>\n",
       "      <td>평안</td>\n",
       "      <td>중립</td>\n",
       "    </tr>\n",
       "    <tr>\n",
       "      <th>2</th>\n",
       "      <td>아침부터 쉼 없이 달려온 오늘 #하루\\n잘 하고 있는건지 잘 모르겠지만.\\n또 힘을...</td>\n",
       "      <td>싫음</td>\n",
       "      <td>싫음</td>\n",
       "    </tr>\n",
       "    <tr>\n",
       "      <th>3</th>\n",
       "      <td>하루종일 긴장의 연속.\\n목이 뻐근하고 눈도 뻑뻑하고.\\n#직장생활 은 왜 늘 어렵...</td>\n",
       "      <td>싫음</td>\n",
       "      <td>싫음</td>\n",
       "    </tr>\n",
       "    <tr>\n",
       "      <th>4</th>\n",
       "      <td>처음으로 무엇인가를 만나는 날의 설렘을 다시 느낀다</td>\n",
       "      <td>평안</td>\n",
       "      <td>중립</td>\n",
       "    </tr>\n",
       "  </tbody>\n",
       "</table>\n",
       "</div>"
      ],
      "text/plain": [
       "                                                text code_affect_original test\n",
       "0      자기에게만 관대하고 남에게 엄격한 자들아 남에개만 엄격하더라도 인정할건 좀 하자.                   평안   중립\n",
       "1                        정신없는 하루였다...\\n벌써 퇴근시간이 다가오네                   평안   중립\n",
       "2  아침부터 쉼 없이 달려온 오늘 #하루\\n잘 하고 있는건지 잘 모르겠지만.\\n또 힘을...                   싫음   싫음\n",
       "3  하루종일 긴장의 연속.\\n목이 뻐근하고 눈도 뻑뻑하고.\\n#직장생활 은 왜 늘 어렵...                   싫음   싫음\n",
       "4                       처음으로 무엇인가를 만나는 날의 설렘을 다시 느낀다                   평안   중립"
      ]
     },
     "execution_count": 19,
     "metadata": {},
     "output_type": "execute_result"
    }
   ],
   "source": [
    "test2.head()"
   ]
  },
  {
   "cell_type": "code",
   "execution_count": 20,
   "id": "47829ab8",
   "metadata": {},
   "outputs": [
    {
     "data": {
      "text/plain": [
       "중립     3002\n",
       "싫음     2210\n",
       "괴로움    1323\n",
       "설렘     1094\n",
       "행복      926\n",
       "슬픔      718\n",
       "기쁨      156\n",
       "감동      108\n",
       "후회       16\n",
       "당황       13\n",
       "Name: test, dtype: int64"
      ]
     },
     "execution_count": 20,
     "metadata": {},
     "output_type": "execute_result"
    }
   ],
   "source": [
    "test2[\"test\"].value_counts()"
   ]
  },
  {
   "cell_type": "code",
   "execution_count": 21,
   "id": "50b3579d",
   "metadata": {},
   "outputs": [
    {
     "name": "stderr",
     "output_type": "stream",
     "text": [
      "C:\\Users\\shelk\\AppData\\Local\\Temp\\ipykernel_1128\\1645414153.py:1: SettingWithCopyWarning: \n",
      "A value is trying to be set on a copy of a slice from a DataFrame\n",
      "\n",
      "See the caveats in the documentation: https://pandas.pydata.org/pandas-docs/stable/user_guide/indexing.html#returning-a-view-versus-a-copy\n",
      "  test2.rename(columns={\"text\":\"Sentence\",\"code_affect_original\":\"Emotion\"}, inplace=True)\n"
     ]
    },
    {
     "data": {
      "text/html": [
       "<div>\n",
       "<style scoped>\n",
       "    .dataframe tbody tr th:only-of-type {\n",
       "        vertical-align: middle;\n",
       "    }\n",
       "\n",
       "    .dataframe tbody tr th {\n",
       "        vertical-align: top;\n",
       "    }\n",
       "\n",
       "    .dataframe thead th {\n",
       "        text-align: right;\n",
       "    }\n",
       "</style>\n",
       "<table border=\"1\" class=\"dataframe\">\n",
       "  <thead>\n",
       "    <tr style=\"text-align: right;\">\n",
       "      <th></th>\n",
       "      <th>Sentence</th>\n",
       "      <th>Emotion</th>\n",
       "      <th>test</th>\n",
       "    </tr>\n",
       "  </thead>\n",
       "  <tbody>\n",
       "    <tr>\n",
       "      <th>0</th>\n",
       "      <td>자기에게만 관대하고 남에게 엄격한 자들아 남에개만 엄격하더라도 인정할건 좀 하자.</td>\n",
       "      <td>평안</td>\n",
       "      <td>중립</td>\n",
       "    </tr>\n",
       "    <tr>\n",
       "      <th>1</th>\n",
       "      <td>정신없는 하루였다...\\n벌써 퇴근시간이 다가오네</td>\n",
       "      <td>평안</td>\n",
       "      <td>중립</td>\n",
       "    </tr>\n",
       "    <tr>\n",
       "      <th>2</th>\n",
       "      <td>아침부터 쉼 없이 달려온 오늘 #하루\\n잘 하고 있는건지 잘 모르겠지만.\\n또 힘을...</td>\n",
       "      <td>싫음</td>\n",
       "      <td>싫음</td>\n",
       "    </tr>\n",
       "    <tr>\n",
       "      <th>3</th>\n",
       "      <td>하루종일 긴장의 연속.\\n목이 뻐근하고 눈도 뻑뻑하고.\\n#직장생활 은 왜 늘 어렵...</td>\n",
       "      <td>싫음</td>\n",
       "      <td>싫음</td>\n",
       "    </tr>\n",
       "    <tr>\n",
       "      <th>4</th>\n",
       "      <td>처음으로 무엇인가를 만나는 날의 설렘을 다시 느낀다</td>\n",
       "      <td>평안</td>\n",
       "      <td>중립</td>\n",
       "    </tr>\n",
       "  </tbody>\n",
       "</table>\n",
       "</div>"
      ],
      "text/plain": [
       "                                            Sentence Emotion test\n",
       "0      자기에게만 관대하고 남에게 엄격한 자들아 남에개만 엄격하더라도 인정할건 좀 하자.      평안   중립\n",
       "1                        정신없는 하루였다...\\n벌써 퇴근시간이 다가오네      평안   중립\n",
       "2  아침부터 쉼 없이 달려온 오늘 #하루\\n잘 하고 있는건지 잘 모르겠지만.\\n또 힘을...      싫음   싫음\n",
       "3  하루종일 긴장의 연속.\\n목이 뻐근하고 눈도 뻑뻑하고.\\n#직장생활 은 왜 늘 어렵...      싫음   싫음\n",
       "4                       처음으로 무엇인가를 만나는 날의 설렘을 다시 느낀다      평안   중립"
      ]
     },
     "execution_count": 21,
     "metadata": {},
     "output_type": "execute_result"
    }
   ],
   "source": [
    "test2.rename(columns={\"text\":\"Sentence\",\"code_affect_original\":\"Emotion\"}, inplace=True)\n",
    "test2.head()"
   ]
  },
  {
   "cell_type": "code",
   "execution_count": 22,
   "id": "707cc9d5",
   "metadata": {},
   "outputs": [
    {
     "name": "stdout",
     "output_type": "stream",
     "text": [
      "                                               Sentence Emotion test\n",
      "0                              언니 동생으로 부르는게 맞는 일인가요..??      공포  괴로움\n",
      "1                                          그냥 내 느낌일뿐겠지?      공포  괴로움\n",
      "2                                        아직너무초기라서 그런거죠?      공포  괴로움\n",
      "3                                         유치원버스 사고 낫다던데      공포  괴로움\n",
      "4                                           근데 원래이런거맞나요      공포  괴로움\n",
      "...                                                 ...     ...  ...\n",
      "9737  나랑 맞지않는 사람과 같이 할 필요가 없다\\n맞는 사람과 함께해라\\n나랑 안 맞는데...    안타까움  괴로움\n",
      "9738  문제는 회사\\n내가 이상한건가 싶으면서도\\n그건 아닌거같다\\n그들은 친할텐데\\n그건...      평안   중립\n",
      "9739                                              부모님이요      평안   중립\n",
      "9740  비가 오는 날에는 유독 감성적으로 마음이 슬프다..\\n기쁠 때나 슬플 때나 힘들어도...    안타까움  괴로움\n",
      "9741  등산가려고 첨 먹어본 피임약\\n부작용인지 몸은 붓는거같고\\n턱밑 트러블 (이건 폭토...    안타까움  괴로움\n",
      "\n",
      "[48336 rows x 3 columns]\n"
     ]
    }
   ],
   "source": [
    "result = pd.concat([test1, test2])\n",
    "print(result)"
   ]
  },
  {
   "cell_type": "code",
   "execution_count": 23,
   "id": "a9588309",
   "metadata": {},
   "outputs": [
    {
     "name": "stdout",
     "output_type": "stream",
     "text": [
      "<class 'pandas.core.frame.DataFrame'>\n",
      "Int64Index: 48336 entries, 0 to 9741\n",
      "Data columns (total 3 columns):\n",
      " #   Column    Non-Null Count  Dtype \n",
      "---  ------    --------------  ----- \n",
      " 0   Sentence  48334 non-null  object\n",
      " 1   Emotion   48336 non-null  object\n",
      " 2   test      42731 non-null  object\n",
      "dtypes: object(3)\n",
      "memory usage: 1.5+ MB\n"
     ]
    }
   ],
   "source": [
    "result.info()"
   ]
  },
  {
   "cell_type": "code",
   "execution_count": 24,
   "id": "aded2f8a",
   "metadata": {},
   "outputs": [
    {
     "data": {
      "text/html": [
       "<div>\n",
       "<style scoped>\n",
       "    .dataframe tbody tr th:only-of-type {\n",
       "        vertical-align: middle;\n",
       "    }\n",
       "\n",
       "    .dataframe tbody tr th {\n",
       "        vertical-align: top;\n",
       "    }\n",
       "\n",
       "    .dataframe thead th {\n",
       "        text-align: right;\n",
       "    }\n",
       "</style>\n",
       "<table border=\"1\" class=\"dataframe\">\n",
       "  <thead>\n",
       "    <tr style=\"text-align: right;\">\n",
       "      <th></th>\n",
       "      <th>Sentence</th>\n",
       "      <th>test</th>\n",
       "    </tr>\n",
       "  </thead>\n",
       "  <tbody>\n",
       "    <tr>\n",
       "      <th>0</th>\n",
       "      <td>언니 동생으로 부르는게 맞는 일인가요..??</td>\n",
       "      <td>괴로움</td>\n",
       "    </tr>\n",
       "    <tr>\n",
       "      <th>1</th>\n",
       "      <td>그냥 내 느낌일뿐겠지?</td>\n",
       "      <td>괴로움</td>\n",
       "    </tr>\n",
       "    <tr>\n",
       "      <th>2</th>\n",
       "      <td>아직너무초기라서 그런거죠?</td>\n",
       "      <td>괴로움</td>\n",
       "    </tr>\n",
       "    <tr>\n",
       "      <th>3</th>\n",
       "      <td>유치원버스 사고 낫다던데</td>\n",
       "      <td>괴로움</td>\n",
       "    </tr>\n",
       "    <tr>\n",
       "      <th>4</th>\n",
       "      <td>근데 원래이런거맞나요</td>\n",
       "      <td>괴로움</td>\n",
       "    </tr>\n",
       "    <tr>\n",
       "      <th>...</th>\n",
       "      <td>...</td>\n",
       "      <td>...</td>\n",
       "    </tr>\n",
       "    <tr>\n",
       "      <th>9737</th>\n",
       "      <td>나랑 맞지않는 사람과 같이 할 필요가 없다\\n맞는 사람과 함께해라\\n나랑 안 맞는데...</td>\n",
       "      <td>괴로움</td>\n",
       "    </tr>\n",
       "    <tr>\n",
       "      <th>9738</th>\n",
       "      <td>문제는 회사\\n내가 이상한건가 싶으면서도\\n그건 아닌거같다\\n그들은 친할텐데\\n그건...</td>\n",
       "      <td>중립</td>\n",
       "    </tr>\n",
       "    <tr>\n",
       "      <th>9739</th>\n",
       "      <td>부모님이요</td>\n",
       "      <td>중립</td>\n",
       "    </tr>\n",
       "    <tr>\n",
       "      <th>9740</th>\n",
       "      <td>비가 오는 날에는 유독 감성적으로 마음이 슬프다..\\n기쁠 때나 슬플 때나 힘들어도...</td>\n",
       "      <td>괴로움</td>\n",
       "    </tr>\n",
       "    <tr>\n",
       "      <th>9741</th>\n",
       "      <td>등산가려고 첨 먹어본 피임약\\n부작용인지 몸은 붓는거같고\\n턱밑 트러블 (이건 폭토...</td>\n",
       "      <td>괴로움</td>\n",
       "    </tr>\n",
       "  </tbody>\n",
       "</table>\n",
       "<p>48336 rows × 2 columns</p>\n",
       "</div>"
      ],
      "text/plain": [
       "                                               Sentence test\n",
       "0                              언니 동생으로 부르는게 맞는 일인가요..??  괴로움\n",
       "1                                          그냥 내 느낌일뿐겠지?  괴로움\n",
       "2                                        아직너무초기라서 그런거죠?  괴로움\n",
       "3                                         유치원버스 사고 낫다던데  괴로움\n",
       "4                                           근데 원래이런거맞나요  괴로움\n",
       "...                                                 ...  ...\n",
       "9737  나랑 맞지않는 사람과 같이 할 필요가 없다\\n맞는 사람과 함께해라\\n나랑 안 맞는데...  괴로움\n",
       "9738  문제는 회사\\n내가 이상한건가 싶으면서도\\n그건 아닌거같다\\n그들은 친할텐데\\n그건...   중립\n",
       "9739                                              부모님이요   중립\n",
       "9740  비가 오는 날에는 유독 감성적으로 마음이 슬프다..\\n기쁠 때나 슬플 때나 힘들어도...  괴로움\n",
       "9741  등산가려고 첨 먹어본 피임약\\n부작용인지 몸은 붓는거같고\\n턱밑 트러블 (이건 폭토...  괴로움\n",
       "\n",
       "[48336 rows x 2 columns]"
      ]
     },
     "execution_count": 24,
     "metadata": {},
     "output_type": "execute_result"
    }
   ],
   "source": [
    "result2 = result[[\"Sentence\",\"test\"]]\n",
    "result2"
   ]
  },
  {
   "cell_type": "code",
   "execution_count": 25,
   "id": "43f7f7c4",
   "metadata": {},
   "outputs": [
    {
     "name": "stdout",
     "output_type": "stream",
     "text": [
      "<class 'pandas.core.frame.DataFrame'>\n",
      "Int64Index: 42729 entries, 0 to 9741\n",
      "Data columns (total 2 columns):\n",
      " #   Column    Non-Null Count  Dtype \n",
      "---  ------    --------------  ----- \n",
      " 0   Sentence  42729 non-null  object\n",
      " 1   test      42729 non-null  object\n",
      "dtypes: object(2)\n",
      "memory usage: 1001.5+ KB\n"
     ]
    }
   ],
   "source": [
    "result3 = result2.dropna(axis=0)\n",
    "result3.info()"
   ]
  },
  {
   "cell_type": "code",
   "execution_count": 26,
   "id": "37f676ed",
   "metadata": {},
   "outputs": [
    {
     "data": {
      "text/html": [
       "<div>\n",
       "<style scoped>\n",
       "    .dataframe tbody tr th:only-of-type {\n",
       "        vertical-align: middle;\n",
       "    }\n",
       "\n",
       "    .dataframe tbody tr th {\n",
       "        vertical-align: top;\n",
       "    }\n",
       "\n",
       "    .dataframe thead th {\n",
       "        text-align: right;\n",
       "    }\n",
       "</style>\n",
       "<table border=\"1\" class=\"dataframe\">\n",
       "  <thead>\n",
       "    <tr style=\"text-align: right;\">\n",
       "      <th></th>\n",
       "      <th>Sentence</th>\n",
       "      <th>test</th>\n",
       "    </tr>\n",
       "  </thead>\n",
       "  <tbody>\n",
       "    <tr>\n",
       "      <th>0</th>\n",
       "      <td>언니 동생으로 부르는게 맞는 일인가요..??</td>\n",
       "      <td>괴로움</td>\n",
       "    </tr>\n",
       "    <tr>\n",
       "      <th>1</th>\n",
       "      <td>그냥 내 느낌일뿐겠지?</td>\n",
       "      <td>괴로움</td>\n",
       "    </tr>\n",
       "    <tr>\n",
       "      <th>2</th>\n",
       "      <td>아직너무초기라서 그런거죠?</td>\n",
       "      <td>괴로움</td>\n",
       "    </tr>\n",
       "    <tr>\n",
       "      <th>3</th>\n",
       "      <td>유치원버스 사고 낫다던데</td>\n",
       "      <td>괴로움</td>\n",
       "    </tr>\n",
       "    <tr>\n",
       "      <th>4</th>\n",
       "      <td>근데 원래이런거맞나요</td>\n",
       "      <td>괴로움</td>\n",
       "    </tr>\n",
       "    <tr>\n",
       "      <th>...</th>\n",
       "      <td>...</td>\n",
       "      <td>...</td>\n",
       "    </tr>\n",
       "    <tr>\n",
       "      <th>9737</th>\n",
       "      <td>나랑 맞지않는 사람과 같이 할 필요가 없다\\n맞는 사람과 함께해라\\n나랑 안 맞는데...</td>\n",
       "      <td>괴로움</td>\n",
       "    </tr>\n",
       "    <tr>\n",
       "      <th>9738</th>\n",
       "      <td>문제는 회사\\n내가 이상한건가 싶으면서도\\n그건 아닌거같다\\n그들은 친할텐데\\n그건...</td>\n",
       "      <td>중립</td>\n",
       "    </tr>\n",
       "    <tr>\n",
       "      <th>9739</th>\n",
       "      <td>부모님이요</td>\n",
       "      <td>중립</td>\n",
       "    </tr>\n",
       "    <tr>\n",
       "      <th>9740</th>\n",
       "      <td>비가 오는 날에는 유독 감성적으로 마음이 슬프다..\\n기쁠 때나 슬플 때나 힘들어도...</td>\n",
       "      <td>괴로움</td>\n",
       "    </tr>\n",
       "    <tr>\n",
       "      <th>9741</th>\n",
       "      <td>등산가려고 첨 먹어본 피임약\\n부작용인지 몸은 붓는거같고\\n턱밑 트러블 (이건 폭토...</td>\n",
       "      <td>괴로움</td>\n",
       "    </tr>\n",
       "  </tbody>\n",
       "</table>\n",
       "<p>42729 rows × 2 columns</p>\n",
       "</div>"
      ],
      "text/plain": [
       "                                               Sentence test\n",
       "0                              언니 동생으로 부르는게 맞는 일인가요..??  괴로움\n",
       "1                                          그냥 내 느낌일뿐겠지?  괴로움\n",
       "2                                        아직너무초기라서 그런거죠?  괴로움\n",
       "3                                         유치원버스 사고 낫다던데  괴로움\n",
       "4                                           근데 원래이런거맞나요  괴로움\n",
       "...                                                 ...  ...\n",
       "9737  나랑 맞지않는 사람과 같이 할 필요가 없다\\n맞는 사람과 함께해라\\n나랑 안 맞는데...  괴로움\n",
       "9738  문제는 회사\\n내가 이상한건가 싶으면서도\\n그건 아닌거같다\\n그들은 친할텐데\\n그건...   중립\n",
       "9739                                              부모님이요   중립\n",
       "9740  비가 오는 날에는 유독 감성적으로 마음이 슬프다..\\n기쁠 때나 슬플 때나 힘들어도...  괴로움\n",
       "9741  등산가려고 첨 먹어본 피임약\\n부작용인지 몸은 붓는거같고\\n턱밑 트러블 (이건 폭토...  괴로움\n",
       "\n",
       "[42729 rows x 2 columns]"
      ]
     },
     "execution_count": 26,
     "metadata": {},
     "output_type": "execute_result"
    }
   ],
   "source": [
    "result3"
   ]
  },
  {
   "cell_type": "code",
   "execution_count": 27,
   "id": "553237e4",
   "metadata": {},
   "outputs": [
    {
     "data": {
      "text/html": [
       "<div>\n",
       "<style scoped>\n",
       "    .dataframe tbody tr th:only-of-type {\n",
       "        vertical-align: middle;\n",
       "    }\n",
       "\n",
       "    .dataframe tbody tr th {\n",
       "        vertical-align: top;\n",
       "    }\n",
       "\n",
       "    .dataframe thead th {\n",
       "        text-align: right;\n",
       "    }\n",
       "</style>\n",
       "<table border=\"1\" class=\"dataframe\">\n",
       "  <thead>\n",
       "    <tr style=\"text-align: right;\">\n",
       "      <th></th>\n",
       "      <th>Sentence</th>\n",
       "      <th>test</th>\n",
       "    </tr>\n",
       "  </thead>\n",
       "  <tbody>\n",
       "    <tr>\n",
       "      <th>0</th>\n",
       "      <td>언니 동생으로 부르는게 맞는 일인가요..??</td>\n",
       "      <td>괴로움</td>\n",
       "    </tr>\n",
       "    <tr>\n",
       "      <th>1</th>\n",
       "      <td>그냥 내 느낌일뿐겠지?</td>\n",
       "      <td>괴로움</td>\n",
       "    </tr>\n",
       "    <tr>\n",
       "      <th>2</th>\n",
       "      <td>아직너무초기라서 그런거죠?</td>\n",
       "      <td>괴로움</td>\n",
       "    </tr>\n",
       "    <tr>\n",
       "      <th>3</th>\n",
       "      <td>유치원버스 사고 낫다던데</td>\n",
       "      <td>괴로움</td>\n",
       "    </tr>\n",
       "    <tr>\n",
       "      <th>4</th>\n",
       "      <td>근데 원래이런거맞나요</td>\n",
       "      <td>괴로움</td>\n",
       "    </tr>\n",
       "    <tr>\n",
       "      <th>...</th>\n",
       "      <td>...</td>\n",
       "      <td>...</td>\n",
       "    </tr>\n",
       "    <tr>\n",
       "      <th>42724</th>\n",
       "      <td>나랑 맞지않는 사람과 같이 할 필요가 없다\\n맞는 사람과 함께해라\\n나랑 안 맞는데...</td>\n",
       "      <td>괴로움</td>\n",
       "    </tr>\n",
       "    <tr>\n",
       "      <th>42725</th>\n",
       "      <td>문제는 회사\\n내가 이상한건가 싶으면서도\\n그건 아닌거같다\\n그들은 친할텐데\\n그건...</td>\n",
       "      <td>중립</td>\n",
       "    </tr>\n",
       "    <tr>\n",
       "      <th>42726</th>\n",
       "      <td>부모님이요</td>\n",
       "      <td>중립</td>\n",
       "    </tr>\n",
       "    <tr>\n",
       "      <th>42727</th>\n",
       "      <td>비가 오는 날에는 유독 감성적으로 마음이 슬프다..\\n기쁠 때나 슬플 때나 힘들어도...</td>\n",
       "      <td>괴로움</td>\n",
       "    </tr>\n",
       "    <tr>\n",
       "      <th>42728</th>\n",
       "      <td>등산가려고 첨 먹어본 피임약\\n부작용인지 몸은 붓는거같고\\n턱밑 트러블 (이건 폭토...</td>\n",
       "      <td>괴로움</td>\n",
       "    </tr>\n",
       "  </tbody>\n",
       "</table>\n",
       "<p>42729 rows × 2 columns</p>\n",
       "</div>"
      ],
      "text/plain": [
       "                                                Sentence test\n",
       "0                               언니 동생으로 부르는게 맞는 일인가요..??  괴로움\n",
       "1                                           그냥 내 느낌일뿐겠지?  괴로움\n",
       "2                                         아직너무초기라서 그런거죠?  괴로움\n",
       "3                                          유치원버스 사고 낫다던데  괴로움\n",
       "4                                            근데 원래이런거맞나요  괴로움\n",
       "...                                                  ...  ...\n",
       "42724  나랑 맞지않는 사람과 같이 할 필요가 없다\\n맞는 사람과 함께해라\\n나랑 안 맞는데...  괴로움\n",
       "42725  문제는 회사\\n내가 이상한건가 싶으면서도\\n그건 아닌거같다\\n그들은 친할텐데\\n그건...   중립\n",
       "42726                                              부모님이요   중립\n",
       "42727  비가 오는 날에는 유독 감성적으로 마음이 슬프다..\\n기쁠 때나 슬플 때나 힘들어도...  괴로움\n",
       "42728  등산가려고 첨 먹어본 피임약\\n부작용인지 몸은 붓는거같고\\n턱밑 트러블 (이건 폭토...  괴로움\n",
       "\n",
       "[42729 rows x 2 columns]"
      ]
     },
     "execution_count": 27,
     "metadata": {},
     "output_type": "execute_result"
    }
   ],
   "source": [
    "result3.reset_index(inplace=True, drop=True)\n",
    "result3"
   ]
  },
  {
   "cell_type": "code",
   "execution_count": 28,
   "id": "51fc1242",
   "metadata": {},
   "outputs": [],
   "source": [
    "result3.to_csv(\"emotion_data3.csv\",encoding=\"utf-8-sig\")"
   ]
  },
  {
   "cell_type": "code",
   "execution_count": null,
   "id": "dfb3dc72",
   "metadata": {},
   "outputs": [],
   "source": []
  }
 ],
 "metadata": {
  "kernelspec": {
   "display_name": "Python 3 (ipykernel)",
   "language": "python",
   "name": "python3"
  },
  "language_info": {
   "codemirror_mode": {
    "name": "ipython",
    "version": 3
   },
   "file_extension": ".py",
   "mimetype": "text/x-python",
   "name": "python",
   "nbconvert_exporter": "python",
   "pygments_lexer": "ipython3",
<<<<<<< HEAD
   "version": "3.10.10"
=======
   "version": "3.9.13"
  },
  "toc": {
   "base_numbering": 1,
   "nav_menu": {},
   "number_sections": true,
   "sideBar": true,
   "skip_h1_title": false,
   "title_cell": "Table of Contents",
   "title_sidebar": "Contents",
   "toc_cell": false,
   "toc_position": {},
   "toc_section_display": true,
   "toc_window_display": false
>>>>>>> parent of c1775d5 (add: KoBERT 토크나이저 호출까지 진행)
  }
 },
 "nbformat": 4,
 "nbformat_minor": 5
}
