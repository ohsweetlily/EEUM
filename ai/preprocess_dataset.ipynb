{
 "cells": [
  {
   "cell_type": "code",
   "execution_count": 1,
   "id": "7bd6ff76-1b39-4174-90ae-4ff3c2c1cab9",
   "metadata": {},
   "outputs": [],
   "source": [
    "# csv 파일 주소\n",
    "data_csv_url = './csv_data/emotion_data3.csv'"
   ]
  },
  {
   "cell_type": "markdown",
   "id": "102e6b62-d637-453d-b22b-2f2c2afe92dc",
   "metadata": {},
   "source": [
    "# split train_ds, validation_ds, test_ds"
   ]
  },
  {
   "cell_type": "code",
   "execution_count": 2,
   "id": "02cf0afd-2fb5-4347-9bf2-ca244ed3f557",
   "metadata": {},
   "outputs": [],
   "source": [
    "import pandas as pd"
   ]
  },
  {
   "cell_type": "code",
   "execution_count": 3,
   "id": "dfb28857-9d70-41f1-9681-469f39384675",
   "metadata": {},
   "outputs": [
    {
     "data": {
      "text/html": [
       "<div>\n",
       "<style scoped>\n",
       "    .dataframe tbody tr th:only-of-type {\n",
       "        vertical-align: middle;\n",
       "    }\n",
       "\n",
       "    .dataframe tbody tr th {\n",
       "        vertical-align: top;\n",
       "    }\n",
       "\n",
       "    .dataframe thead th {\n",
       "        text-align: right;\n",
       "    }\n",
       "</style>\n",
       "<table border=\"1\" class=\"dataframe\">\n",
       "  <thead>\n",
       "    <tr style=\"text-align: right;\">\n",
       "      <th></th>\n",
       "      <th>Unnamed: 0</th>\n",
       "      <th>Sentence</th>\n",
       "      <th>test</th>\n",
       "    </tr>\n",
       "  </thead>\n",
       "  <tbody>\n",
       "    <tr>\n",
       "      <th>0</th>\n",
       "      <td>0</td>\n",
       "      <td>언니 동생으로 부르는게 맞는 일인가요..??</td>\n",
       "      <td>괴로움</td>\n",
       "    </tr>\n",
       "    <tr>\n",
       "      <th>1</th>\n",
       "      <td>1</td>\n",
       "      <td>그냥 내 느낌일뿐겠지?</td>\n",
       "      <td>괴로움</td>\n",
       "    </tr>\n",
       "    <tr>\n",
       "      <th>2</th>\n",
       "      <td>2</td>\n",
       "      <td>아직너무초기라서 그런거죠?</td>\n",
       "      <td>괴로움</td>\n",
       "    </tr>\n",
       "    <tr>\n",
       "      <th>3</th>\n",
       "      <td>3</td>\n",
       "      <td>유치원버스 사고 낫다던데</td>\n",
       "      <td>괴로움</td>\n",
       "    </tr>\n",
       "    <tr>\n",
       "      <th>4</th>\n",
       "      <td>4</td>\n",
       "      <td>근데 원래이런거맞나요</td>\n",
       "      <td>괴로움</td>\n",
       "    </tr>\n",
       "    <tr>\n",
       "      <th>5</th>\n",
       "      <td>5</td>\n",
       "      <td>남자친구가 떠날까봐요</td>\n",
       "      <td>괴로움</td>\n",
       "    </tr>\n",
       "    <tr>\n",
       "      <th>6</th>\n",
       "      <td>6</td>\n",
       "      <td>이거 했는데 허리가 아플수도 있나요? ;;</td>\n",
       "      <td>괴로움</td>\n",
       "    </tr>\n",
       "    <tr>\n",
       "      <th>7</th>\n",
       "      <td>7</td>\n",
       "      <td>내가불안해서꾸는걸까..</td>\n",
       "      <td>괴로움</td>\n",
       "    </tr>\n",
       "    <tr>\n",
       "      <th>8</th>\n",
       "      <td>8</td>\n",
       "      <td>일주일도 안 남았당...ㅠㅠ</td>\n",
       "      <td>괴로움</td>\n",
       "    </tr>\n",
       "    <tr>\n",
       "      <th>9</th>\n",
       "      <td>9</td>\n",
       "      <td>약은 최대한 안먹으려고 하는데좋은 음시있나요?0</td>\n",
       "      <td>괴로움</td>\n",
       "    </tr>\n",
       "    <tr>\n",
       "      <th>10</th>\n",
       "      <td>10</td>\n",
       "      <td>구직활동 하면서 남는시간은 뭘로 활용해야 되지..</td>\n",
       "      <td>괴로움</td>\n",
       "    </tr>\n",
       "    <tr>\n",
       "      <th>11</th>\n",
       "      <td>11</td>\n",
       "      <td>괜찮은분 같아서 괜히 조급해지네요 ㅜ</td>\n",
       "      <td>괴로움</td>\n",
       "    </tr>\n",
       "    <tr>\n",
       "      <th>12</th>\n",
       "      <td>12</td>\n",
       "      <td>제가 스타일을 바꾸면 더 어색하게만 변할것같아서 ㅠ0</td>\n",
       "      <td>괴로움</td>\n",
       "    </tr>\n",
       "    <tr>\n",
       "      <th>13</th>\n",
       "      <td>13</td>\n",
       "      <td>아내 있으면 여자 있는 술집가면 법 적으로 문제있나요?</td>\n",
       "      <td>괴로움</td>\n",
       "    </tr>\n",
       "    <tr>\n",
       "      <th>14</th>\n",
       "      <td>14</td>\n",
       "      <td>한소리들을지.... 도와주세요</td>\n",
       "      <td>괴로움</td>\n",
       "    </tr>\n",
       "    <tr>\n",
       "      <th>15</th>\n",
       "      <td>15</td>\n",
       "      <td>도와주실분 없나요..</td>\n",
       "      <td>괴로움</td>\n",
       "    </tr>\n",
       "    <tr>\n",
       "      <th>16</th>\n",
       "      <td>16</td>\n",
       "      <td>그냥 잡다한거말고학업에 관련된거 듣는게 더 좋은가요?</td>\n",
       "      <td>괴로움</td>\n",
       "    </tr>\n",
       "    <tr>\n",
       "      <th>17</th>\n",
       "      <td>17</td>\n",
       "      <td>가격은 반값....이거 질이 다른건가요??</td>\n",
       "      <td>괴로움</td>\n",
       "    </tr>\n",
       "    <tr>\n",
       "      <th>18</th>\n",
       "      <td>18</td>\n",
       "      <td>마지막에 말씀 드렸던대로 글은 이제 내릴게요의도치않게 실시간베스트글에 올라가서 남친...</td>\n",
       "      <td>괴로움</td>\n",
       "    </tr>\n",
       "    <tr>\n",
       "      <th>19</th>\n",
       "      <td>19</td>\n",
       "      <td>화장품회사다보니, 젊은 여자들이 많은거 같은데 걱정이네요..</td>\n",
       "      <td>괴로움</td>\n",
       "    </tr>\n",
       "  </tbody>\n",
       "</table>\n",
       "</div>"
      ],
      "text/plain": [
       "    Unnamed: 0                                           Sentence test\n",
       "0            0                           언니 동생으로 부르는게 맞는 일인가요..??  괴로움\n",
       "1            1                                       그냥 내 느낌일뿐겠지?  괴로움\n",
       "2            2                                     아직너무초기라서 그런거죠?  괴로움\n",
       "3            3                                      유치원버스 사고 낫다던데  괴로움\n",
       "4            4                                        근데 원래이런거맞나요  괴로움\n",
       "5            5                                        남자친구가 떠날까봐요  괴로움\n",
       "6            6                            이거 했는데 허리가 아플수도 있나요? ;;  괴로움\n",
       "7            7                                       내가불안해서꾸는걸까..  괴로움\n",
       "8            8                                    일주일도 안 남았당...ㅠㅠ  괴로움\n",
       "9            9                         약은 최대한 안먹으려고 하는데좋은 음시있나요?0  괴로움\n",
       "10          10                        구직활동 하면서 남는시간은 뭘로 활용해야 되지..  괴로움\n",
       "11          11                               괜찮은분 같아서 괜히 조급해지네요 ㅜ  괴로움\n",
       "12          12                      제가 스타일을 바꾸면 더 어색하게만 변할것같아서 ㅠ0  괴로움\n",
       "13          13                     아내 있으면 여자 있는 술집가면 법 적으로 문제있나요?  괴로움\n",
       "14          14                                   한소리들을지.... 도와주세요  괴로움\n",
       "15          15                                        도와주실분 없나요..  괴로움\n",
       "16          16                      그냥 잡다한거말고학업에 관련된거 듣는게 더 좋은가요?  괴로움\n",
       "17          17                            가격은 반값....이거 질이 다른건가요??  괴로움\n",
       "18          18  마지막에 말씀 드렸던대로 글은 이제 내릴게요의도치않게 실시간베스트글에 올라가서 남친...  괴로움\n",
       "19          19                  화장품회사다보니, 젊은 여자들이 많은거 같은데 걱정이네요..  괴로움"
      ]
     },
     "execution_count": 3,
     "metadata": {},
     "output_type": "execute_result"
    }
   ],
   "source": [
    "data_pd = pd.read_csv(data_csv_url)\n",
    "\n",
    "data_pd.head(20)"
   ]
  },
  {
   "cell_type": "code",
   "execution_count": 4,
   "id": "7eb29c0d-c108-4019-8e74-69e089c5f6a4",
   "metadata": {},
   "outputs": [
    {
     "data": {
      "text/plain": [
       "(Index(['Unnamed: 0', 'Sentence', 'test'], dtype='object'), (42729, 3))"
      ]
     },
     "execution_count": 4,
     "metadata": {},
     "output_type": "execute_result"
    }
   ],
   "source": [
    "# Data 컬럼, 데이터 shape 조회\n",
    "data_pd.columns, data_pd.shape"
   ]
  },
  {
   "cell_type": "markdown",
   "id": "9366a833-1519-4d96-9a8f-d2134882a254",
   "metadata": {},
   "source": [
    "## 데이터를 무작위로 섞고, 컬럼명을 변경해준다"
   ]
  },
  {
   "cell_type": "code",
   "execution_count": 5,
   "id": "7540a39f-b871-4859-ba94-067b60b47f0f",
   "metadata": {},
   "outputs": [
    {
     "data": {
      "text/html": [
       "<div>\n",
       "<style scoped>\n",
       "    .dataframe tbody tr th:only-of-type {\n",
       "        vertical-align: middle;\n",
       "    }\n",
       "\n",
       "    .dataframe tbody tr th {\n",
       "        vertical-align: top;\n",
       "    }\n",
       "\n",
       "    .dataframe thead th {\n",
       "        text-align: right;\n",
       "    }\n",
       "</style>\n",
       "<table border=\"1\" class=\"dataframe\">\n",
       "  <thead>\n",
       "    <tr style=\"text-align: right;\">\n",
       "      <th></th>\n",
       "      <th>sentence</th>\n",
       "      <th>label</th>\n",
       "    </tr>\n",
       "  </thead>\n",
       "  <tbody>\n",
       "    <tr>\n",
       "      <th>9985</th>\n",
       "      <td>우리는 백년안애 다시돌아와 너희를 통치할것이다.</td>\n",
       "      <td>중립</td>\n",
       "    </tr>\n",
       "    <tr>\n",
       "      <th>25865</th>\n",
       "      <td>어떤 정치인과 관련되어 있는지 조사해보면 나옴</td>\n",
       "      <td>중립</td>\n",
       "    </tr>\n",
       "    <tr>\n",
       "      <th>11177</th>\n",
       "      <td>어디 투자함?</td>\n",
       "      <td>중립</td>\n",
       "    </tr>\n",
       "    <tr>\n",
       "      <th>5238</th>\n",
       "      <td>흐앙ㅠㅠ고치는법좀요</td>\n",
       "      <td>괴로움</td>\n",
       "    </tr>\n",
       "    <tr>\n",
       "      <th>26208</th>\n",
       "      <td>이렇게 된 이상 민사로는 이빠이 당겨야된다</td>\n",
       "      <td>중립</td>\n",
       "    </tr>\n",
       "    <tr>\n",
       "      <th>26180</th>\n",
       "      <td>전에 애플 영업이익 비교해가며 망한다고 방송한곳도 엠비씨 아님? ㅋ</td>\n",
       "      <td>중립</td>\n",
       "    </tr>\n",
       "    <tr>\n",
       "      <th>38741</th>\n",
       "      <td>잘난  남의편이라고 남편이라 살고 있는데 너무 피곤해요 남들은 다부러워하지만 뭘하나...</td>\n",
       "      <td>싫음</td>\n",
       "    </tr>\n",
       "    <tr>\n",
       "      <th>32605</th>\n",
       "      <td>내일도,내일 모래두....기분좋은 하루 되세요...^^</td>\n",
       "      <td>행복</td>\n",
       "    </tr>\n",
       "    <tr>\n",
       "      <th>3553</th>\n",
       "      <td>고민 되네요.....</td>\n",
       "      <td>괴로움</td>\n",
       "    </tr>\n",
       "    <tr>\n",
       "      <th>22144</th>\n",
       "      <td>초코우유좋다해서먹었는데..</td>\n",
       "      <td>슬픔</td>\n",
       "    </tr>\n",
       "    <tr>\n",
       "      <th>30680</th>\n",
       "      <td>솔직히 남자친구한테 말은 안하지만 고마운게참 많다..</td>\n",
       "      <td>행복</td>\n",
       "    </tr>\n",
       "    <tr>\n",
       "      <th>40673</th>\n",
       "      <td>#내일\\n재택근무하는날\\n나태하지 않을 것이라 마음먹는다</td>\n",
       "      <td>설렘</td>\n",
       "    </tr>\n",
       "    <tr>\n",
       "      <th>38262</th>\n",
       "      <td>아침부터 졸려요</td>\n",
       "      <td>싫음</td>\n",
       "    </tr>\n",
       "    <tr>\n",
       "      <th>30161</th>\n",
       "      <td>당신같은분께서 민주주의의 양심입니다!!!!</td>\n",
       "      <td>행복</td>\n",
       "    </tr>\n",
       "    <tr>\n",
       "      <th>34505</th>\n",
       "      <td>#일상 점심먹고 너무 졸려서 잠깐 눈붙인다는게 한시간...ㅋㅋㅋ낮잠 조하 방학 조하..</td>\n",
       "      <td>중립</td>\n",
       "    </tr>\n",
       "    <tr>\n",
       "      <th>5789</th>\n",
       "      <td>공부를 잘 하셨데요</td>\n",
       "      <td>중립</td>\n",
       "    </tr>\n",
       "    <tr>\n",
       "      <th>30025</th>\n",
       "      <td>김재현오빠는 짱먹구......</td>\n",
       "      <td>행복</td>\n",
       "    </tr>\n",
       "    <tr>\n",
       "      <th>5512</th>\n",
       "      <td>정말 대단하다...</td>\n",
       "      <td>중립</td>\n",
       "    </tr>\n",
       "    <tr>\n",
       "      <th>1509</th>\n",
       "      <td>어느날 갑자기 성자들이나 된 마냥 수십년을 넘게 행해지고 있던걸 자기만 모르다 이제...</td>\n",
       "      <td>괴로움</td>\n",
       "    </tr>\n",
       "    <tr>\n",
       "      <th>38385</th>\n",
       "      <td>오늘도 화이팅!!!\\n출근길 긍정에너지를 끌어올리기 위한 \\n노래듣기ㅋㅋㅋ#쏟아라#...</td>\n",
       "      <td>행복</td>\n",
       "    </tr>\n",
       "  </tbody>\n",
       "</table>\n",
       "</div>"
      ],
      "text/plain": [
       "                                                sentence label\n",
       "9985                          우리는 백년안애 다시돌아와 너희를 통치할것이다.    중립\n",
       "25865                          어떤 정치인과 관련되어 있는지 조사해보면 나옴    중립\n",
       "11177                                            어디 투자함?    중립\n",
       "5238                                          흐앙ㅠㅠ고치는법좀요   괴로움\n",
       "26208                            이렇게 된 이상 민사로는 이빠이 당겨야된다    중립\n",
       "26180              전에 애플 영업이익 비교해가며 망한다고 방송한곳도 엠비씨 아님? ㅋ    중립\n",
       "38741  잘난  남의편이라고 남편이라 살고 있는데 너무 피곤해요 남들은 다부러워하지만 뭘하나...    싫음\n",
       "32605                     내일도,내일 모래두....기분좋은 하루 되세요...^^    행복\n",
       "3553                                         고민 되네요.....   괴로움\n",
       "22144                                     초코우유좋다해서먹었는데..    슬픔\n",
       "30680                      솔직히 남자친구한테 말은 안하지만 고마운게참 많다..    행복\n",
       "40673                    #내일\\n재택근무하는날\\n나태하지 않을 것이라 마음먹는다    설렘\n",
       "38262                                           아침부터 졸려요    싫음\n",
       "30161                            당신같은분께서 민주주의의 양심입니다!!!!    행복\n",
       "34505   #일상 점심먹고 너무 졸려서 잠깐 눈붙인다는게 한시간...ㅋㅋㅋ낮잠 조하 방학 조하..    중립\n",
       "5789                                          공부를 잘 하셨데요    중립\n",
       "30025                                   김재현오빠는 짱먹구......    행복\n",
       "5512                                          정말 대단하다...    중립\n",
       "1509   어느날 갑자기 성자들이나 된 마냥 수십년을 넘게 행해지고 있던걸 자기만 모르다 이제...   괴로움\n",
       "38385  오늘도 화이팅!!!\\n출근길 긍정에너지를 끌어올리기 위한 \\n노래듣기ㅋㅋㅋ#쏟아라#...    행복"
      ]
     },
     "execution_count": 5,
     "metadata": {},
     "output_type": "execute_result"
    }
   ],
   "source": [
    "# 컬럼 명 변경\n",
    "data_pd = data_pd.rename(columns={'Sentence': 'sentence', 'test': 'label'})\n",
    "\n",
    "# Unnamed 컬럼 제거\n",
    "data_pd = data_pd.drop('Unnamed: 0', axis=1)\n",
    "\n",
    "# 데이터를 무작위로 섞어준다\n",
    "shuffled_data = data_pd.sample(frac=1)\n",
    "shuffled_data.head(20)"
   ]
  },
  {
   "cell_type": "markdown",
   "id": "fe77a712-5c2c-408b-9155-e1d726d2603b",
   "metadata": {
    "tags": []
   },
   "source": [
    "## 커스텀 Dataset을 이용해서 PyTorch 학습, 검증, 테스트 데이터셋 생성"
   ]
  },
  {
   "cell_type": "code",
   "execution_count": 6,
   "id": "bae601d4-275d-4ff8-aacc-1e4564bbe314",
   "metadata": {},
   "outputs": [],
   "source": [
    "import torch\n",
    "from torch.utils.data import Dataset\n",
    "\n",
    "class CustomDataset(Dataset):\n",
    "    def __init__(self, df):\n",
    "        self.data = df.values\n",
    "    \n",
    "    def __len__(self):\n",
    "        return len(self.data)\n",
    "    \n",
    "    def __getitem__(self, idx):\n",
    "        x = self.data[idx, 0]\n",
    "        y = self.data[idx, -1]\n",
    "        return {'sentence': x, 'label': y}"
   ]
  },
  {
   "cell_type": "code",
   "execution_count": 7,
   "id": "b887fd3a-0baf-492e-bcde-72f340794734",
   "metadata": {},
   "outputs": [
    {
     "name": "stdout",
     "output_type": "stream",
     "text": [
      "{'sentence': array(['신기해서 적어본다.', ' 쟤가 왜 영웅.의인 이런거냐?',\n",
      "       '일수하는문제 때문에 이렇게 될지는 몰랐고남자친구랑 싸웠어요', '와 어떻게 해도 예뻐ㅠㅠㅠ',\n",
      "       '제가 잘못하고있는걸까요?', '너무하네...', ' 왠 호들갑이야 때리고쳐야하는건 지도어쩌고가아니라 윗대가리들이야',\n",
      "       '그래 택시비좀 내립시다!ㅋㅋ', ' 이미친경상도 할망구야',\n",
      "       '우리 모두가 다 고맙고 좋은 대한민국 국민이구나 싶네요'], dtype=object), 'label': array(['중립', '중립', '싫음', '행복', '괴로움', '중립', '싫음', '중립', '싫음', '행복'],\n",
      "      dtype=object)}\n"
     ]
    }
   ],
   "source": [
    "import pandas as pd\n",
    "from sklearn.model_selection import train_test_split\n",
    "from torch.utils.data import DataLoader, SubsetRandomSampler\n",
    "import random\n",
    "\n",
    "# pandas 데이터를 train, validation, test로 나눈다 (약 8:1:1 비율로 생성)\n",
    "train_df, test_df = train_test_split(shuffled_data, test_size=0.1, random_state=42)\n",
    "train_df, validation_df = train_test_split(train_df, test_size=0.11, random_state=42)\n",
    "\n",
    "# Dataset 생성\n",
    "train_ds, validation_ds, test_ds = CustomDataset(train_df), CustomDataset(validation_df), CustomDataset(test_df)\n",
    "\n",
    "print(train_ds[:10])"
   ]
  },
  {
   "cell_type": "markdown",
   "id": "4697e2eb-7ab8-4931-b6f9-1912488b33dc",
   "metadata": {
    "tags": []
   },
   "source": [
    "## 학습 데이터셋 클래스 분포 확인"
   ]
  },
  {
   "cell_type": "code",
   "execution_count": 8,
   "id": "9cdb9966-4709-48be-b184-f1393fdf559a",
   "metadata": {},
   "outputs": [
    {
     "data": {
      "image/png": "[encoded data removed]",
      "text/plain": [
       "<Figure size 640x480 with 1 Axes>"
      ]
     },
     "metadata": {},
     "output_type": "display_data"
    }
   ],
   "source": [
    "import pandas as pd\n",
    "import matplotlib.pyplot as plt\n",
    "\n",
    "plt.rcParams['font.family'] = 'NanumGothic' # 한글 폰트 설정\n",
    "\n",
    "train_df['label'].value_counts(ascending=True).plot.barh()\n",
    "plt.title('Frequency')\n",
    "plt.show()"
   ]
  },
  {
   "cell_type": "code",
   "execution_count": 14,
   "id": "56f95346-23b1-4573-9675-1f08a24b145a",
   "metadata": {},
   "outputs": [
    {
     "name": "stderr",
     "output_type": "stream",
     "text": [
      "The tokenizer class you load from this checkpoint is not the same type as the class this function is called from. It may result in unexpected tokenization. \n",
      "The tokenizer class you load from this checkpoint is 'XLNetTokenizer'. \n",
      "The class this function is called from is 'KoBERTTokenizer'.\n"
     ]
    }
   ],
   "source": [
    "from kobert_tokenizer import KoBERTTokenizer\n",
    "tokenizer = KoBERTTokenizer.from_pretrained('skt/kobert-base-v1')"
   ]
  },
  {
   "cell_type": "code",
   "execution_count": null,
   "id": "4e4d5693-f6bc-43b7-9ca4-30b64b4c7f72",
   "metadata": {},
   "outputs": [],
   "source": []
  }
 ],
 "metadata": {
  "kernelspec": {
   "display_name": "Python 3 (ipykernel)",
   "language": "python",
   "name": "python3"
  },
  "language_info": {
   "codemirror_mode": {
    "name": "ipython",
    "version": 3
   },
   "file_extension": ".py",
   "mimetype": "text/x-python",
   "name": "python",
   "nbconvert_exporter": "python",
   "pygments_lexer": "ipython3",
   "version": "3.10.10"
  }
 },
 "nbformat": 4,
 "nbformat_minor": 5
}
